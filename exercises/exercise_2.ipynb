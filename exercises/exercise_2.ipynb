{
 "cells": [
  {
   "cell_type": "code",
   "execution_count": 3,
   "id": "ccb0ac49",
   "metadata": {},
   "outputs": [
    {
     "name": "stdout",
     "output_type": "stream",
     "text": [
      "Your number is 0\n"
     ]
    }
   ],
   "source": [
    "# 0. Check sign\n",
    "\n",
    "user_input = int(input(\"Put in an integer: \"))\n",
    "if user_input < 0:\n",
    "    print(\"Your number is negative\")\n",
    "elif user_input > 0:\n",
    "    print(\"Your number is positive\")\n",
    "else:\n",
    "    print(\"Your number is 0\")"
   ]
  },
  {
   "cell_type": "code",
   "execution_count": 9,
   "id": "a5696b27",
   "metadata": {},
   "outputs": [
    {
     "name": "stdout",
     "output_type": "stream",
     "text": [
      "1 is the same as 1\n"
     ]
    }
   ],
   "source": [
    "# 1. Smallest\n",
    "\n",
    "x = int(input(\"Put in the first integer\"))\n",
    "y = int(input(\"Put in the second integer\"))\n",
    "\n",
    "if x < y:\n",
    "    print(x)\n",
    "elif x > y:\n",
    "    print(y)\n",
    "else:\n",
    "    print(f\"{x} is the same as {y}\")\n"
   ]
  },
  {
   "cell_type": "code",
   "execution_count": 3,
   "id": "4b34451a",
   "metadata": {},
   "outputs": [
    {
     "name": "stdout",
     "output_type": "stream",
     "text": [
      "Take half a pill\n"
     ]
    }
   ],
   "source": [
    "# 2. Medicine\n",
    "\n",
    "weight = int(input(\"What is your weight in kilograms? \"))\n",
    "age = int(input(\"How old are you? \"))\n",
    "\n",
    "if 3 <= age <= 7 and 15 <= weight <= 25:\n",
    "    print(\"Take half a pill\")\n",
    "elif 7 <= age <= 12 and 26 <= weight <= 40:\n",
    "    print(\"Take half to one whole pills\")\n",
    "elif age > 12 and weight > 40:\n",
    "    print(\"Take on to two pills\")\n",
    " "
   ]
  },
  {
   "cell_type": "code",
   "execution_count": 5,
   "id": "f06e6602",
   "metadata": {},
   "outputs": [
    {
     "name": "stdout",
     "output_type": "stream",
     "text": [
      "Number is odd\n",
      "Evenly divisible by 5\n"
     ]
    }
   ],
   "source": [
    "# 3. Divisible\n",
    "\n",
    "user_number = int(input(\"Input a number: \"))\n",
    "\n",
    "if user_number % 2 == 0:\n",
    "    print(\"Number is even\")\n",
    "elif user_number % 2 != 0:\n",
    "    print(\"Number is odd\")\n",
    "if user_number % 5 == 0:\n",
    "    print(\"Evenly divisible by 5\")\n",
    "    "
   ]
  },
  {
   "cell_type": "code",
   "execution_count": 11,
   "id": "dbc566f8",
   "metadata": {},
   "outputs": [
    {
     "name": "stdout",
     "output_type": "stream",
     "text": [
      "Luggage is allowed\n"
     ]
    }
   ],
   "source": [
    "# 4. Luggage size\n",
    "\n",
    "weight = float(input(\"Enter weight: \"))\n",
    "height = float(input(\"Enter height: \"))\n",
    "width = float(input(\"Enter width: \"))\n",
    "length = float(input(\"Enter length: \"))\n",
    "\n",
    "if weight > 8 or height > 23 or width > 40 or length > 55:\n",
    "    print(\"Luggage not allowed\")\n",
    "else:\n",
    "    print(\"Luggage is allowed\")"
   ]
  },
  {
   "cell_type": "code",
   "execution_count": null,
   "id": "70b7c898",
   "metadata": {},
   "outputs": [
    {
     "name": "stdout",
     "output_type": "stream",
     "text": [
      "-10\n",
      "-9\n",
      "-8\n",
      "-7\n",
      "-6\n",
      "-5\n",
      "-4\n",
      "-3\n",
      "-2\n",
      "-1\n",
      "0\n",
      "1\n",
      "2\n",
      "3\n",
      "4\n",
      "5\n",
      "6\n",
      "7\n",
      "8\n",
      "9\n",
      "10\n"
     ]
    }
   ],
   "source": [
    "# 5. Count numbers a)\n",
    "for x in range(-10, 11):\n",
    "    print(x)"
   ]
  },
  {
   "cell_type": "code",
   "execution_count": null,
   "id": "56fe2b43",
   "metadata": {},
   "outputs": [
    {
     "name": "stdout",
     "output_type": "stream",
     "text": [
      "-10\n",
      "-8\n",
      "-6\n",
      "-4\n",
      "-2\n",
      "0\n",
      "2\n",
      "4\n",
      "6\n",
      "8\n",
      "10\n"
     ]
    }
   ],
   "source": [
    "# 5. Count numbers b)\n",
    "for x in range(-10, 11, 2):\n",
    "    print(x)"
   ]
  },
  {
   "cell_type": "code",
   "execution_count": null,
   "id": "d17f41d0",
   "metadata": {},
   "outputs": [
    {
     "name": "stdout",
     "output_type": "stream",
     "text": [
      "5050\n",
      "5050\n"
     ]
    }
   ],
   "source": [
    "# 5. Arithmetic sum a)\n",
    "sum = 0\n",
    "startpoint = 1\n",
    "\n",
    "while startpoint < 101:\n",
    "    sum = sum + startpoint\n",
    "    startpoint = startpoint + 1\n",
    "print(sum)\n",
    "\n",
    "sum = 0\n",
    "\n",
    "for x in range(101):\n",
    "    sum = sum + x\n",
    "print(sum)\n"
   ]
  },
  {
   "cell_type": "code",
   "execution_count": null,
   "id": "8fee958a",
   "metadata": {},
   "outputs": [
    {
     "name": "stdout",
     "output_type": "stream",
     "text": [
      "2500\n",
      "2500\n"
     ]
    }
   ],
   "source": [
    "# 5. Arithemtic sum b)\n",
    "sum = 0\n",
    "startpoint = 1\n",
    "\n",
    "while startpoint < 100:\n",
    "    sum = sum + startpoint\n",
    "    startpoint = startpoint + 2\n",
    "print(sum)\n",
    "\n",
    "sum = 0\n",
    "\n",
    "for x in range(1, 100, 2):\n",
    "    sum = sum + x\n",
    "print(sum)\n",
    "    "
   ]
  },
  {
   "cell_type": "code",
   "execution_count": 29,
   "id": "6ca2f2de",
   "metadata": {},
   "outputs": [
    {
     "name": "stdout",
     "output_type": "stream",
     "text": [
      "Incorrect\n",
      "Current Score: 0\n",
      "Thank you for participating!\n"
     ]
    }
   ],
   "source": [
    "# 6. Multiplication game\n",
    "import random\n",
    "\n",
    "while True:\n",
    "    sum = 0\n",
    "    while True:\n",
    "        x = random.randint(1, 10)\n",
    "        y = random.randint(1, 10)\n",
    "        user_choice = int(input(f\"What is {x} times {y}? \"))\n",
    "        if user_choice == x * y:\n",
    "            print(\"Correct! \")\n",
    "            sum = sum + 1\n",
    "            print(f\"Current Score: {sum}\")\n",
    "        else:\n",
    "            print(\"Incorrect\")\n",
    "            print(f\"Current Score: {sum}\")\n",
    "        quitting = input(\"Play Again? \\n 1. Yes\\n2. No\")\n",
    "        if quitting == \"1\":\n",
    "            continue\n",
    "        elif quitting == \"2\":\n",
    "            print(\"Thank you for participating!\")\n",
    "            break\n",
    "    break\n",
    "\n"
   ]
  },
  {
   "cell_type": "code",
   "execution_count": null,
   "id": "f92232c5",
   "metadata": {},
   "outputs": [
    {
     "name": "stdout",
     "output_type": "stream",
     "text": [
      "0\n",
      "6\n",
      "12\n",
      "18\n",
      "24\n",
      "30\n",
      "36\n",
      "42\n",
      "48\n",
      "54\n",
      "60\n"
     ]
    }
   ],
   "source": [
    "# 7. Multiplication table a)\n",
    "sixer = 6\n",
    "\n",
    "for x in range(11):\n",
    "    print(x * sixer)"
   ]
  },
  {
   "cell_type": "code",
   "execution_count": 45,
   "id": "12840d39",
   "metadata": {},
   "outputs": [
    {
     "name": "stdout",
     "output_type": "stream",
     "text": [
      "0\n",
      "10\n",
      "20\n",
      "30\n",
      "40\n",
      "50\n",
      "60\n",
      "70\n",
      "80\n",
      "90\n",
      "100\n"
     ]
    }
   ],
   "source": [
    "# 7. Multiplication table b)\n",
    "\n",
    "table = int(input(\"Which table? \"))\n",
    "startpoint = int(input(\"Which startpoint? \"))\n",
    "endpoint = int(input(\"Which endpoint? \"))\n",
    "\n",
    "for x in range(startpoint, endpoint + 1, table):\n",
    "    print(x)"
   ]
  },
  {
   "cell_type": "code",
   "execution_count": 49,
   "id": "e5525760",
   "metadata": {},
   "outputs": [
    {
     "name": "stdout",
     "output_type": "stream",
     "text": [
      "\n",
      "0 0 0 0 0 0 0 0 0 0 0 \n",
      "0 1 2 3 4 5 6 7 8 9 10 \n",
      "0 2 4 6 8 10 12 14 16 18 20 \n",
      "0 3 6 9 12 15 18 21 24 27 30 \n",
      "0 4 8 12 16 20 24 28 32 36 40 \n",
      "0 5 10 15 20 25 30 35 40 45 50 \n",
      "0 6 12 18 24 30 36 42 48 54 60 \n",
      "0 7 14 21 28 35 42 49 56 63 70 \n",
      "0 8 16 24 32 40 48 56 64 72 80 \n",
      "0 9 18 27 36 45 54 63 72 81 90 \n",
      "0 10 20 30 40 50 60 70 80 90 100 "
     ]
    }
   ],
   "source": [
    "# 7. Multiplication table c)\n",
    "for x in range(0, 11):\n",
    "    print()\n",
    "    for y in range(0, 11):\n",
    "        print(x * y, end= \" \")\n"
   ]
  },
  {
   "cell_type": "code",
   "execution_count": 53,
   "id": "03f6f032",
   "metadata": {},
   "outputs": [
    {
     "name": "stdout",
     "output_type": "stream",
     "text": [
      "18446744073709551615\n"
     ]
    }
   ],
   "source": [
    "# 8. Rice on chessboard\n",
    "sum = 1\n",
    "for x in range(1, 64):\n",
    "    sum = sum + 2 ** x\n",
    "print(sum)"
   ]
  },
  {
   "cell_type": "code",
   "execution_count": 22,
   "id": "0d094781",
   "metadata": {},
   "outputs": [
    {
     "name": "stdout",
     "output_type": "stream",
     "text": [
      "1.9999999999999982\n",
      "1.9999999999999982\n"
     ]
    }
   ],
   "source": [
    "# 9. Check convergence a) \n",
    "num = 1\n",
    "sum = 1\n",
    "while num < 50:\n",
    "    sum = sum + 1 / 2 ** num\n",
    "    num = num + 1\n",
    "print(sum) \n",
    "\n",
    "sum = 1\n",
    "for x in range(1, 50):\n",
    "    sum = sum + 1 / 2 ** x\n",
    "print(sum)\n"
   ]
  },
  {
   "cell_type": "code",
   "execution_count": 27,
   "id": "30e3519a",
   "metadata": {},
   "outputs": [
    {
     "name": "stdout",
     "output_type": "stream",
     "text": [
      "0.6666666666666667\n",
      "0.6666666666666667\n"
     ]
    }
   ],
   "source": [
    "# 9. Check convergence b)\n",
    "num = 1\n",
    "sum = 1\n",
    "\n",
    "while num < 2:\n",
    "    sum = sum + ((-1) ** num) / (2 * num + 1)\n",
    "    num = num + 1\n",
    "print(sum)\n",
    "\n",
    "sum = 1\n",
    "for x in range(1, 2):\n",
    "    sum = sum + ((-1) ** x) / (2 * x + 1)\n",
    "print(sum)"
   ]
  },
  {
   "cell_type": "markdown",
   "id": "72ecc601",
   "metadata": {},
   "source": [
    "a) When is it better to use while statement and when is it better to use for statement\n",
    "If you do not know how many times you would want to iterate through a code, then you would want to use a while statement which simply runs until a condition is not met anymore. A for statement is on the other hand typically used when iterating through sequences with a set amount of elements.\n",
    "\n",
    "b) What is the difference between = and == in Python?\n",
    "A single \"=\" is used when declaring variables and assigning values to them. \"==\" is an operator used to check equality between values.\n",
    "\n",
    "c) Explain how an if-elif-else block works in Python. What happens if multiple conditions are true?\n",
    "if, elif and else are used in Python to control the flow of the code based on logic and conditionals. In case the condition inside the if-statement is not truthy it will trigger the elif next. In case the if-statement and all elif-statements are falsy the else-statement will be run. Even if multiple conditionals inside the if-elif-else block are truthy only the first truthy one will be run.  \n",
    "\n",
    "d) What does the continue statement do in a loop? How is it different from break?\n",
    "The continue statement will not quit the loop altogether like a break statement, but will - if triggered - quit the contemporary repetition and move to the next one.\n",
    "\n",
    "e) Explain the meaning of truthy and falsy values and give a few example of both\n",
    "Truthy and falsy values are two values that make up all the booleans in Python. If a variable or list for example contain any other value other than None, 0 or emptiness, and is evaluated independently using bool(), it will almost always return True. This is however often not the case when setting up conditionals. If we have the variable \"a\" assigned to a negative integer and variable \"b\" assigned to a positive integer, the line bool(a > b) will instead return False. Booleans are therefore in programming critical when we are thinking about logic and flow.   \n",
    "\n",
    "f) Can you nest control structures in Python (e.g., a loop inside an if)? Give a brief example.\n",
    "Yes, you can nest control structures in Python. If you have an if-statement that returns True and an indented while loop on the next line, the while loop will be triggered and run independently as long as its condition is fulfilled. \n",
    "\n",
    "g) Every expression can be part of a statement, but not all statements are expressions. True or false?\n",
    "Given a substantial gray area, i believe this is mostly true. All expressions may produce values that can be evaluated inside statements, but statements do not always render concrete values when executed.  "
   ]
  },
  {
   "cell_type": "markdown",
   "id": "d21695a7",
   "metadata": {},
   "source": [
    "control structures = Code blocks that determine flow of the program\t\n",
    "conditional statement = Code block that would also determine flow based on the value of the conditional itself\t\n",
    "if = Statement that will trigger first if truthy\t\n",
    "elif = Statement that will trigger if if-statement is falsy and elif is truthy\t\n",
    "else = Statement that will trigger if if-statement and elif-statement are falsy\t\n",
    "for\t= A loop that iterates, or attempts to iterate through a set sequence of elements like lists for example \n",
    "while = A loop that will run as long as the loop condition is truthy \t\n",
    "break = Statement that will halt a loop completely from running if triggered\t\n",
    "continue = Statement that, if triggered, will quit the current iteration of a loop and move to the next repetition\t\n",
    "boolean expression = an expression that either returns truthy or falsy\t\n",
    "loop = something that repeats a code block\t\n",
    "nested loop\t= an embedded loop, I.E belonging to another structure, that will be run independently if triggered \n",
    "nested if statement = same concept as above, although would not loop\t\n",
    "expression = something that returns a value, like 1 + 1\t\n",
    "statement = something that will be run but not necessarily always produce a value, like \"if 1 < 0:\" etc \t\n",
    "control flow = essentially determining the order of code execution "
   ]
  }
 ],
 "metadata": {
  "kernelspec": {
   "display_name": "programmering_karl_rydberg_de25",
   "language": "python",
   "name": "python3"
  },
  "language_info": {
   "codemirror_mode": {
    "name": "ipython",
    "version": 3
   },
   "file_extension": ".py",
   "mimetype": "text/x-python",
   "name": "python",
   "nbconvert_exporter": "python",
   "pygments_lexer": "ipython3",
   "version": "3.12.8"
  }
 },
 "nbformat": 4,
 "nbformat_minor": 5
}
