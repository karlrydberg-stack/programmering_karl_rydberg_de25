{
 "cells": [
  {
   "cell_type": "code",
   "execution_count": 3,
   "id": "d4e38309",
   "metadata": {},
   "outputs": [
    {
     "name": "stdout",
     "output_type": "stream",
     "text": [
      "Hypothenuse = 5.0 units\n",
      "Catheti = 8.6 units\n"
     ]
    }
   ],
   "source": [
    "import math\n",
    "# 0. Pythagorean theorem\n",
    "# a)\n",
    "catheti_catheti_sum = 3**2 + 4**2\n",
    "print(f\"Hypothenuse = {math.sqrt(catheti_catheti_sum)} units\")\n",
    "# b)\n",
    "catheti_hypothenuse_sum = 7**2 + 5**2\n",
    "print(f\"Catheti = {round(math.sqrt(catheti_hypothenuse_sum), 1)} units\")"
   ]
  },
  {
   "cell_type": "code",
   "execution_count": 4,
   "id": "f0c39712",
   "metadata": {},
   "outputs": [
    {
     "name": "stdout",
     "output_type": "stream",
     "text": [
      "Accuracy = 0.821917808219178 %\n"
     ]
    }
   ],
   "source": [
    "# 1. Classification accuracy\n",
    "print(f\"Accuracy = {300 / 365} %\")"
   ]
  },
  {
   "cell_type": "code",
   "execution_count": 5,
   "id": "3efe1769",
   "metadata": {},
   "outputs": [
    {
     "name": "stdout",
     "output_type": "stream",
     "text": [
      "accuracy = 0.987 %\n"
     ]
    },
    {
     "data": {
      "text/plain": [
       "'Regarding use: it is difficult to draw any conclusions about the usefulness of this model in making predictions about single instances \\nof future true positives due to the sample sizes.  \\npositives  \\n'"
      ]
     },
     "execution_count": 5,
     "metadata": {},
     "output_type": "execute_result"
    }
   ],
   "source": [
    "# 2. Classification accuracy\n",
    "true_positive = 2\n",
    "false_positive = 2\n",
    "false_negative = 11\n",
    "true_negative = 985\n",
    "accuracy_formula = (true_positive + true_negative) / (true_positive + true_negative + false_positive + false_negative)\n",
    "print(f\"accuracy = {accuracy_formula} %\")\n",
    "\"\"\"Regarding use: it is difficult to draw any conclusions about the usefulness of this model in making predictions about single instances \n",
    "of future true positives due to the sample sizes.  \n",
    "positives  \n",
    "\"\"\""
   ]
  },
  {
   "cell_type": "code",
   "execution_count": 6,
   "id": "76f745fa",
   "metadata": {},
   "outputs": [
    {
     "name": "stdout",
     "output_type": "stream",
     "text": [
      "=== File metadata ===\n",
      "Filename: sales_data.csv\n",
      "Size (MB): 3.14\n",
      "Last Modified Year: 2024\n"
     ]
    }
   ],
   "source": [
    "# 3. File metadata - format print\n",
    "file_name = \"sales_data.csv\"\n",
    "file_size = 3.14\n",
    "modification_year = 2024\n",
    "print(\"=== File metadata ===\")\n",
    "print(f\"Filename: {file_name}\")\n",
    "print(f\"Size (MB): {file_size}\")\n",
    "print(f\"Last Modified Year: {modification_year}\")\n"
   ]
  },
  {
   "cell_type": "code",
   "execution_count": 7,
   "id": "48deb87c",
   "metadata": {},
   "outputs": [
    {
     "name": "stdout",
     "output_type": "stream",
     "text": [
      "10.0 inches corresponds to 25.4 centimeters\n"
     ]
    }
   ],
   "source": [
    "# 4. Unit converter - inch to cm\n",
    "inch_size = float(input(\"Input the length in inches: \"))\n",
    "inch_to_cm = inch_size * 2.54\n",
    "print(f\"{inch_size} inches corresponds to {inch_to_cm} centimeters\")"
   ]
  },
  {
   "cell_type": "code",
   "execution_count": 14,
   "id": "b978502a",
   "metadata": {},
   "outputs": [
    {
     "name": "stdout",
     "output_type": "stream",
     "text": [
      "Number of characters: 10\n"
     ]
    }
   ],
   "source": [
    "# 5. Count characters in text\n",
    "user_text = input(\"Input a text and i'll count each element: \")\n",
    "print(f\"Number of characters: {len(user_text)}\")"
   ]
  },
  {
   "cell_type": "code",
   "execution_count": 2,
   "id": "7d3920b2",
   "metadata": {},
   "outputs": [
    {
     "data": {
      "text/plain": [
       "(str, int, float, list, bool)"
      ]
     },
     "execution_count": 2,
     "metadata": {},
     "output_type": "execute_result"
    }
   ],
   "source": [
    "# 6. Data types\n",
    "string_variable = \"Hello World\"\n",
    "integer_variable = 10\n",
    "float_variable = 3.14\n",
    "list_variable = [\"Apple\", \"Orange\", \"Banana\"]\n",
    "bool_variable = True\n",
    "type(string_variable), type(integer_variable), type(float_variable), type(list_variable), type(bool_variable)"
   ]
  },
  {
   "cell_type": "markdown",
   "id": "36ed4398",
   "metadata": {},
   "source": [
    "a) What is the difference between input() and print() in Python?\n",
    "They are both functions in Python but serve different purposes. The function \"input()\" allows the user of the program to add information, enabling user participation, while \"print()\" simply outputs the result of the run code.  \n",
    "\n",
    "b) What data type does the input() function return by default? How can you use it to get numeric input?\n",
    "By default \"input()\" returns data as a string. The data may be changed using functions like \"int()\" or \"float()\" which take the given value as a parameter and converts it to, in this case, an integer or floating number.\n",
    "\n",
    "c) Explain how formatted string literals (f-strings) improve readability in output statements. Give an example.\n",
    "In my opinion using f-strings greatly improves the readability of ouput statements by adding variables directly in the string, removing the need for excessive quotation marks and operators. The following code snippets gives the same result but look entirely different and are arguably read differently by people:\n",
    "\n",
    "V.1\n",
    "a = \"Hello\"\n",
    "b = \"World\"\n",
    "print(f\"{a} {b}!\")\n",
    "\n",
    "V.2\n",
    "a = \"Hello\"\n",
    "b = \"World\"\n",
    "print(a + \" \" + b + \"!\")\n",
    "\n",
    "d) Can a variable change its data type during runtime in Python? Show an example.\n",
    "If you declare a variable and convert it using the aforementioned functions, while the program runs, you have changed the data type of a variable during runtime. The following code exemplifies this:\n",
    "\n",
    "a = \"1\"\n",
    "print(f\"{int(a) + 1}\")\n",
    "\n",
    "e) What does it mean that Python is \"dynamically typed\"? How is that different from statically typed languages?\n",
    "If a program is dynamically typed, it means you do not need to specify the data type of a variable when declaring it, thereby simplyfing and shortening the code. Statically typed languages thusly typically require more lines of code to achieve the same result, in comparison to for example Python. "
   ]
  },
  {
   "cell_type": "markdown",
   "id": "8e5a2519",
   "metadata": {},
   "source": [
    "Glossary\n",
    "\n",
    "data type = an attribute of data which specifies the value category a variable may contain\t\n",
    "variable = a storage space for assigning values\t\n",
    "assignment = attachement of a value to a variable\t\n",
    "dynamically typed = limited need of specifying the data type of a variable\t\n",
    "input = data which someone or something takes in\t\n",
    "output = data which someone or something returns\n",
    "type casting\t\n",
    "boolean\t= data type with two possible values, True and False, which help in determining the flow of code a through logic\n",
    "string = data type which approximately corresponds to text\t\n",
    "f-string = a way of formatting statements where values are directly added inside the string  \t\n",
    "indentation = space added before a code line to determine flow of the program\t\n",
    "convention = best practice or \"correct\" way of writing code\t"
   ]
  }
 ],
 "metadata": {
  "kernelspec": {
   "display_name": "programmering_karl_rydberg_de25",
   "language": "python",
   "name": "python3"
  },
  "language_info": {
   "codemirror_mode": {
    "name": "ipython",
    "version": 3
   },
   "file_extension": ".py",
   "mimetype": "text/x-python",
   "name": "python",
   "nbconvert_exporter": "python",
   "pygments_lexer": "ipython3",
   "version": "3.12.8"
  }
 },
 "nbformat": 4,
 "nbformat_minor": 5
}
