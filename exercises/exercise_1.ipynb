{
 "cells": [
  {
   "cell_type": "code",
   "execution_count": 8,
   "id": "d4e38309",
   "metadata": {},
   "outputs": [
    {
     "name": "stdout",
     "output_type": "stream",
     "text": [
      "Hypothenuse = 5.0 units\n",
      "Catheti = 8.6 units\n"
     ]
    }
   ],
   "source": [
    "import math\n",
    "# 0. Pythagorean theorem\n",
    "# a)\n",
    "catheti_catheti_sum = 3**2 + 4**2\n",
    "print(f\"Hypothenuse = {math.sqrt(catheti_catheti_sum)} units\")\n",
    "# b)\n",
    "catheti_hypothenuse_sum = 7**2 + 5**2\n",
    "print(f\"Catheti = {round(math.sqrt(catheti_hypothenuse_sum), 1)} units\")"
   ]
  },
  {
   "cell_type": "code",
   "execution_count": 9,
   "id": "f0c39712",
   "metadata": {},
   "outputs": [
    {
     "name": "stdout",
     "output_type": "stream",
     "text": [
      "Accuracy = 0.821917808219178 %\n"
     ]
    }
   ],
   "source": [
    "# 1. Classification accuracy\n",
    "print(f\"Accuracy = {300 / 365} %\")"
   ]
  },
  {
   "cell_type": "code",
   "execution_count": null,
   "id": "3efe1769",
   "metadata": {},
   "outputs": [
    {
     "name": "stdout",
     "output_type": "stream",
     "text": [
      "accuracy = 0.987 %\n"
     ]
    }
   ],
   "source": [
    "# 2. Classification accuracy\n",
    "true_positive = 2\n",
    "false_positive = 2\n",
    "false_negative = 11\n",
    "true_negative = 985\n",
    "accuracy_formula = (true_positive + true_negative) / (true_positive + true_negative + false_positive + false_negative)\n",
    "print(f\"accuracy = {accuracy_formula} %\")\n",
    "\"\"\"Regarding use: it is difficult to draw any conclusions about the usefulness of this model in making predictions about single instances \n",
    "of future true positives due to the sample sizes.  \n",
    "positives  \n",
    "\"\"\""
   ]
  },
  {
   "cell_type": "code",
   "execution_count": 12,
   "id": "76f745fa",
   "metadata": {},
   "outputs": [
    {
     "name": "stdout",
     "output_type": "stream",
     "text": [
      "=== File metadata ===\n",
      "Filename: sales_data.csv\n",
      "Size (MB): 3.14\n",
      "Last Modified Year: 2024\n"
     ]
    }
   ],
   "source": [
    "# 3. File metadata - format print\n",
    "file_name = \"sales_data.csv\"\n",
    "file_size = 3.14\n",
    "modification_year = 2024\n",
    "print(\"=== File metadata ===\")\n",
    "print(f\"Filename: {file_name}\")\n",
    "print(f\"Size (MB): {file_size}\")\n",
    "print(f\"Last Modified Year: {modification_year}\")\n"
   ]
  },
  {
   "cell_type": "code",
   "execution_count": 13,
   "id": "48deb87c",
   "metadata": {},
   "outputs": [
    {
     "name": "stdout",
     "output_type": "stream",
     "text": [
      "10.0 inches corresponds to 25.4 centimeters\n"
     ]
    }
   ],
   "source": [
    "# 4. Unit converter - inch to cm\n",
    "inch_size = float(input(\"Input the length in inches: \"))\n",
    "inch_to_cm = inch_size * 2.54\n",
    "print(f\"{inch_size} inches corresponds to {inch_to_cm} centimeters\")"
   ]
  },
  {
   "cell_type": "code",
   "execution_count": 14,
   "id": "b978502a",
   "metadata": {},
   "outputs": [
    {
     "name": "stdout",
     "output_type": "stream",
     "text": [
      "Number of characters: 10\n"
     ]
    }
   ],
   "source": [
    "# 5. Count characters in text\n",
    "user_text = input(\"Input a text and i'll count each element: \")\n",
    "print(f\"Number of characters: {len(user_text)}\")"
   ]
  },
  {
   "cell_type": "code",
   "execution_count": 18,
   "id": "7d3920b2",
   "metadata": {},
   "outputs": [
    {
     "data": {
      "text/plain": [
       "(str, int, float, list, bool)"
      ]
     },
     "execution_count": 18,
     "metadata": {},
     "output_type": "execute_result"
    }
   ],
   "source": [
    "# 6. Data types\n",
    "string_variable = \"Hello World\"\n",
    "integer_variable = 10\n",
    "float_variable = 3.14\n",
    "list_variable = [\"Apple\", \"Orange\", \"Banana\"]\n",
    "bool_variable = True\n",
    "type(string_variable), type(integer_variable), type(float_variable), type(list_variable), type(bool_variable)"
   ]
  },
  {
   "cell_type": "code",
   "execution_count": null,
   "id": "36ed4398",
   "metadata": {},
   "outputs": [],
   "source": [
    "# "
   ]
  }
 ],
 "metadata": {
  "kernelspec": {
   "display_name": "programmering_karl_rydberg_de25",
   "language": "python",
   "name": "python3"
  },
  "language_info": {
   "codemirror_mode": {
    "name": "ipython",
    "version": 3
   },
   "file_extension": ".py",
   "mimetype": "text/x-python",
   "name": "python",
   "nbconvert_exporter": "python",
   "pygments_lexer": "ipython3",
   "version": "3.12.8"
  }
 },
 "nbformat": 4,
 "nbformat_minor": 5
}
