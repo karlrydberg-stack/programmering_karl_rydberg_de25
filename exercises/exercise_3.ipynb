{
 "cells": [
  {
   "cell_type": "code",
   "execution_count": 15,
   "id": "c18cbff5",
   "metadata": {},
   "outputs": [
    {
     "name": "stdout",
     "output_type": "stream",
     "text": [
      "[3, 3, 2, 3, 6, 5, 3, 2, 6, 2]\n",
      "[2, 2, 2, 3, 3, 3, 3, 5, 6, 6]\n",
      "[6, 6, 5, 3, 3, 3, 3, 2, 2, 2]\n",
      "2\n",
      "6\n",
      "3.5\n",
      "3.0\n",
      "[2, 3, 5, 6]\n"
     ]
    }
   ],
   "source": [
    "# Dice rolls\n",
    "\n",
    "import random\n",
    "\n",
    "number_list = [random.randint(1, 6) for x in range(10)]\n",
    "print(number_list)\n",
    "\n",
    "# a)\n",
    "number_list.sort()\n",
    "print(number_list)\n",
    "\n",
    "# b)\n",
    "number_list.sort(reverse= True)\n",
    "print(number_list)\n",
    "\n",
    "# c)\n",
    "number_list.sort()\n",
    "print(number_list[0])\n",
    "\n",
    "number_list.sort(reverse= True)\n",
    "print(number_list[0])\n",
    "\n",
    "# d)\n",
    "print(sum(number_list) / 10)\n",
    "\n",
    "# e)\n",
    "number_list.sort()\n",
    "print((number_list[4] + number_list[5]) / 2)\n",
    "\n",
    "# f)\n",
    "empty_list = []\n",
    "for x in number_list:\n",
    "    if x not in empty_list:\n",
    "        empty_list.append(x)\n",
    "    else:\n",
    "        continue\n",
    "print(empty_list)"
   ]
  },
  {
   "cell_type": "code",
   "execution_count": null,
   "id": "65767221",
   "metadata": {},
   "outputs": [
    {
     "name": "stdout",
     "output_type": "stream",
     "text": [
      "Day                 Food\n",
      "--------------------------------------\n",
      "Monday              Vegetarian Lasagna\n",
      "Tuesday             Spaghetti\n",
      "Wednesday           Fish\n",
      "Thursday            Soup\n",
      "Friday              Pancakes\n"
     ]
    }
   ],
   "source": [
    "# Food menu\n",
    "\n",
    "# a)\n",
    "food_list = [\"Vegetarian Lasagna\", \"Spaghetti\", \"Fish\", \"Soup\", \"Pancakes\"]\n",
    "\n",
    "# b)\n",
    "weekdays = [\"Monday\", \"Tuesday\", \"Wednesday\", \"Thursday\", \"Friday\", \"Saturday\", \"Sunday\"]\n",
    "\n",
    "# c)\n",
    "print(f\"{\"Day\":<20}{\"Food\"}\")\n",
    "print(\"--------------------------------------\")\n",
    "for weekday, food in zip(weekdays, food_list):\n",
    "    print(f\"{weekday:<20}{food}\")"
   ]
  },
  {
   "cell_type": "code",
   "execution_count": 23,
   "id": "04fa6feb",
   "metadata": {},
   "outputs": [
    {
     "data": {
      "image/png": "[encoded data removed]",
      "text/plain": [
       "<Figure size 640x480 with 1 Axes>"
      ]
     },
     "metadata": {},
     "output_type": "display_data"
    }
   ],
   "source": [
    "# Squares\n",
    "import matplotlib.pyplot as plt\n",
    "import numpy\n",
    "\n",
    "square_list = [x * x for x in range(-10, 11)]\n",
    "x_points = numpy.array([x for x in range(-10, 11)])\n",
    "y_points = numpy.array(square_list)\n",
    "\n",
    "plt.plot(x_points, y_points)\n",
    "plt.show()"
   ]
  },
  {
   "cell_type": "code",
   "execution_count": null,
   "id": "0fb6c611",
   "metadata": {},
   "outputs": [
    {
     "name": "stdout",
     "output_type": "stream",
     "text": [
      "['A1', 'B1', 'C1', 'D1', 'E1', 'F1', 'G1', 'H1']\n"
     ]
    }
   ],
   "source": [
    "# Chessboard\n",
    "import string\n",
    "# a)\n",
    "letter_list = [x for x in string.ascii_uppercase[string.ascii_uppercase.index(\"A\"):string.ascii_uppercase.index(\"H\") + 1]]\n",
    "numbers = [\"1\" for x in range(1, 9)]\n",
    "combined_list = [x + str(y) for x, y in zip(letter_list, numbers)]\n",
    "print(combined_list)\n",
    "\n",
    "# b)\n",
    "\n"
   ]
  }
 ],
 "metadata": {
  "kernelspec": {
   "display_name": "programmering_karl_rydberg_de25",
   "language": "python",
   "name": "python3"
  },
  "language_info": {
   "codemirror_mode": {
    "name": "ipython",
    "version": 3
   },
   "file_extension": ".py",
   "mimetype": "text/x-python",
   "name": "python",
   "nbconvert_exporter": "python",
   "pygments_lexer": "ipython3",
   "version": "3.12.8"
  }
 },
 "nbformat": 4,
 "nbformat_minor": 5
}
