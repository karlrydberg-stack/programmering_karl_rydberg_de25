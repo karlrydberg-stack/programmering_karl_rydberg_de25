{
 "cells": [
  {
   "cell_type": "markdown",
   "id": "45cdb354",
   "metadata": {},
   "source": [
    "2. Theoretical exercises\n",
    "a) What is the difference between git and github?\n",
    "The former is a widely used, free software system that allows developers to keep track of the evolvement of a file, typically source code. It is installed locally but designed to allow for collaborative efforts through its branching system, creating local workstations where individuals can contribute without affecting the main \"trunk\". A modified copy of the main repository - which store metainformation about files - can typically be found on each branch, making it possible to adjust the individual contribution back to the master.\n",
    "Github, on the other hand, is a service which mainly provides a platform for hosting the aforementioned repositories, online. It utilizes Git but is also said to enable the development of large-scale projects between multiple contributors through its centralized structure.\n",
    "The differences between the two can be summarized in 1) the potentially higher cost and rigorous maintenance of Github and 2) the larger emphasis of networking and collaboration in Github and 3) the decentralized state of Git not requiring a host to function.         \n",
    "b) What is the purpose of the .gitignore file?\n",
    "c) Why is it a good idea to work with git and github?"
   ]
  },
  {
   "cell_type": "markdown",
   "id": "a0a87d57",
   "metadata": {},
   "source": []
  }
 ],
 "metadata": {
  "kernelspec": {
   "display_name": "programmering_karl_rydberg_de25",
   "language": "python",
   "name": "python3"
  },
  "language_info": {
   "name": "python",
   "version": "3.12.8"
  }
 },
 "nbformat": 4,
 "nbformat_minor": 5
}
