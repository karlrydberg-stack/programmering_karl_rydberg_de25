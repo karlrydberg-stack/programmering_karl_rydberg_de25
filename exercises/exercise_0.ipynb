{
 "cells": [
  {
   "cell_type": "markdown",
   "id": "45cdb354",
   "metadata": {},
   "source": [
    "2. Theoretical exercises\n",
    "a) What is the difference between git and github?\n",
    "The former is a widely used, free software system that allows developers to keep track of the evolvement of a file, typically source code. It is installed locally but designed to allow for collaborative efforts through its branching system, creating local workstations where individuals can contribute without affecting the main \"trunk\". A modified copy of the main repository - which store metainformation about files - can typically be found on each branch, making it possible to adjust the individual contribution back to the master.\n",
    "Github, on the other hand, is a service which mainly provides a platform for hosting the aforementioned repositories, online. It utilizes Git but is also said to enable the development of large-scale projects between multiple contributors through its centralized structure.\n",
    "The differences between the two can be summarized in 1) the potentially higher cost and rigorous maintenance of Github and 2) the larger emphasis of networking and collaboration in Github and 3) the decentralized state of Git not requiring a host to function.         \n",
    "b) What is the purpose of the .gitignore file?\n",
    "The purpose of the .gitignore is to prevent Git from including certain user-defined, untracked files in your repo. In some instances the file might be redudant in relationship to the main repository, like certain local log files for example.  \n",
    "c) Why is it a good idea to work with git and github?\n",
    "Git is useful because it allows the developer to do version control on source code. Version control in particular is useful since having snapshots of previous versions of a project enables the developer to revert back to it in case a later edition does not work, for example. Git in itself might be preferred as a version control system since it is freely distributed, efficient and can work \"peer-to-peer\".\n",
    "Github, on the other hand, provides a cloud-based storage system for repositories, providing the developer with a backup of a project if his or her local device fails. Github might also be considered a good platform for developers to connect and collaborate on open-source projects.        \n"
   ]
  },
  {
   "cell_type": "markdown",
   "id": "a0a87d57",
   "metadata": {},
   "source": [
    "Glossary\n",
    "git = a free software which enable version control\n",
    "github = a service which provides a platform for devs to store their remote repos and collaborate\n",
    "version control = the tracking of the evolvement of a file over time\n",
    "backup = a clone of something\n",
    "gitignore = instructions to git about which files to be excluded\n",
    "commit = git command which is described as taking a \"snapshot\" of a repo\n",
    "pull = git command which updates a local repo to the main project by getting the changes made to the latter \n",
    "clone = git command used to clone repos\n",
    "cd = meaning \"change directory\" - command which is used to change the working directory\n",
    "ls = command to showcase tracked files\n",
    "cd .. = git bash command to revert back to the foregoing directory    \n",
    "\n"
   ]
  }
 ],
 "metadata": {
  "kernelspec": {
   "display_name": "programmering_karl_rydberg_de25",
   "language": "python",
   "name": "python3"
  },
  "language_info": {
   "name": "python",
   "version": "3.12.8"
  }
 },
 "nbformat": 4,
 "nbformat_minor": 5
}
