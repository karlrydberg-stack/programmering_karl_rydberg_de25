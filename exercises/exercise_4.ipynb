{
 "cells": [
  {
   "cell_type": "code",
   "execution_count": 12,
   "id": "52cdbeef",
   "metadata": {},
   "outputs": [
    {
     "name": "stdout",
     "output_type": "stream",
     "text": [
      "Number of words: 17\n"
     ]
    }
   ],
   "source": [
    "# 0. Counting words\n",
    "\n",
    "sentence_variable = \"A picture says more than a thousand words, a matematical formula says more than a thousand pictures.\"\n",
    "sentence_variable = sentence_variable.split(\" \")\n",
    "sum = 0\n",
    "for x in sentence_variable:\n",
    "    sum = sum + 1\n",
    "print(f\"Number of words: {sum}\")"
   ]
  },
  {
   "cell_type": "code",
   "execution_count": null,
   "id": "97bf8511",
   "metadata": {},
   "outputs": [
    {
     "name": "stdout",
     "output_type": "stream",
     "text": [
      "Number of letters = 3\n",
      "Number of uppercase letters = 2\n",
      "Number of lowercase letters = 1\n"
     ]
    }
   ],
   "source": [
    "# 1. Counting letters\n",
    "\n",
    "# a)\n",
    "user_input = input(\"Enter a word: \")\n",
    "sum = 0\n",
    "\n",
    "for x in user_input:\n",
    "    if x == \" \":\n",
    "        continue\n",
    "    else:\n",
    "        sum = sum + 1\n",
    "\n",
    "print(f\"Number of letters = {sum}\")\n",
    "\n",
    "# b)\n",
    "upper_counter = 0\n",
    "lower_counter = 0\n",
    "\n",
    "for x in user_input:\n",
    "    if x in \"ABCDEFGHIJKLMNOPQRSTUVWXYZ\":\n",
    "        upper_counter = upper_counter + 1\n",
    "    elif x in \"abcdefghijklmnopqrstuvwxyz\":\n",
    "        lower_counter = lower_counter + 1\n",
    "    else: \n",
    "        continue\n",
    "\n",
    "print(f\"Number of uppercase letters = {upper_counter}\")\n",
    "print(f\"Number of lowercase letters = {lower_counter}\")\n"
   ]
  },
  {
   "cell_type": "code",
   "execution_count": 31,
   "id": "85b5665b",
   "metadata": {},
   "outputs": [
    {
     "name": "stdout",
     "output_type": "stream",
     "text": [
      "123 is not a palindrome\n"
     ]
    }
   ],
   "source": [
    "# 2. Palindrome\n",
    "\n",
    "user_input = input(\"Enter a word: \")\n",
    "user_input_reversed = \"\"\n",
    "index_counter = -1\n",
    "\n",
    "for x in range(len(user_input)):\n",
    "    user_input_reversed = user_input_reversed + user_input[index_counter]\n",
    "    index_counter = index_counter -1\n",
    "\n",
    "if user_input == user_input_reversed:\n",
    "    print(f\"{user_input} is a palindrome\")\n",
    "else:\n",
    "    print(f\"{user_input} is not a palindrome\")"
   ]
  },
  {
   "cell_type": "code",
   "execution_count": null,
   "id": "3e992bd8",
   "metadata": {},
   "outputs": [
    {
     "name": "stdout",
     "output_type": "stream",
     "text": [
      "Number of vowels in sentence = 22\n"
     ]
    }
   ],
   "source": [
    "# 3. Vowels\n",
    "\n",
    "sentence_variable = \"Pure mathematics is, in its way, the poetry of logical ideas\"\n",
    "sentence_variable = sentence_variable.lower()\n",
    "vowel_counter = 0\n",
    "\n",
    "for x in sentence_variable:\n",
    "    if x in \"aeiouy\":\n",
    "        vowel_counter += 1\n",
    "    else:\n",
    "        continue\n",
    "\n",
    "print(f\"Number of vowels in sentence = {vowel_counter}\")\n"
   ]
  },
  {
   "cell_type": "code",
   "execution_count": 66,
   "id": "95a2bbad",
   "metadata": {},
   "outputs": [
    {
     "name": "stdout",
     "output_type": "stream",
     "text": [
      "You encrypted word = bcde\n"
     ]
    }
   ],
   "source": [
    "# 4. Encryption\n",
    "\n",
    "user_input = input(\"Enter a word: \")\n",
    "alphabet_not_z = \"abcdefghijklmnopqrstuvwxy\"\n",
    "empty_string = \"\"\n",
    "\n",
    "user_input = user_input.lower()\n",
    "\n",
    "for x in user_input:\n",
    "    if x == \"z\":\n",
    "        empty_string = empty_string + \"a\"\n",
    "    elif x in alphabet_not_z:\n",
    "        var = alphabet_not_z.index(x)\n",
    "        var = var + 1\n",
    "        empty_string = empty_string + alphabet_not_z[var]\n",
    "    else:\n",
    "        continue\n",
    "\n",
    "print(f\"You encrypted word = {empty_string}\")\n",
    "\n"
   ]
  },
  {
   "cell_type": "code",
   "execution_count": 68,
   "id": "b69c8524",
   "metadata": {},
   "outputs": [
    {
     "name": "stdout",
     "output_type": "stream",
     "text": [
      "1.0\n"
     ]
    }
   ],
   "source": [
    "# 5. Find and fix errors\n",
    "\n",
    "import numpy as np\n",
    "\n",
    "def distance(x,y):\n",
    "    return np.sqrt(x+y)\n",
    "\n",
    "print(distance(0.5, 0.5))"
   ]
  },
  {
   "cell_type": "code",
   "execution_count": 106,
   "id": "56f1e59b",
   "metadata": {},
   "outputs": [
    {
     "name": "stdout",
     "output_type": "stream",
     "text": [
      "231 is not four-digit\n",
      "3124 is four-digit\n",
      "-4124 is four-digit\n",
      "-1000 is four-digit\n",
      "-999 is not four-digit\n",
      "1001 is four-digit\n",
      "10000 is not four-digit\n",
      "-10000 is not four-digit\n",
      "999 is not four-digit\n"
     ]
    }
   ],
   "source": [
    "# 6. Find and fix errors\n",
    "\n",
    "def is_fourdigit(number):\n",
    "    if 1 <= number/1000 < 10 or -10 < number/1000 <= -1:\n",
    "        return True\n",
    "    else:\n",
    "        return False\n",
    "\n",
    "# test program\n",
    "test_numbers = [231, 3124, -4124, -1000,-999, 1001, 10000, -10000, 999]\n",
    "\n",
    "for number in test_numbers:\n",
    "    if is_fourdigit(number):\n",
    "        print(f\"{number} is four-digit\")\n",
    "    else:\n",
    "        print(f\"{number} is not four-digit\")"
   ]
  },
  {
   "cell_type": "code",
   "execution_count": 107,
   "id": "6fc7edfe",
   "metadata": {},
   "outputs": [
    {
     "name": "stdout",
     "output_type": "stream",
     "text": [
      "Only positive numbers allowed\n",
      "As the cost for a monthly card (30.0 kr) is greater than buying multiple single fare tickets (11.0 kr) it is not worth it to buy a monthly card. \n",
      "Thanks for using this program! \n"
     ]
    }
   ],
   "source": [
    "# 7. Tram\n",
    "while True:\n",
    "    while True:\n",
    "        try:\n",
    "            frequency = int(input(\"How many times do you want take the tram per month? \"))\n",
    "            if frequency < 0:\n",
    "                raise ValueError\n",
    "            break\n",
    "        except ValueError:\n",
    "            print(\"Only positive integers allowed\")\n",
    "    while True:\n",
    "        try:\n",
    "            single_fare_price = float(input(\"How much does one ticket cost? \"))\n",
    "            if single_fare_price < 0:\n",
    "                raise ValueError\n",
    "            break\n",
    "        except ValueError:\n",
    "            print(\"Only positive numbers allowed\")\n",
    "    while True:\n",
    "        try:\n",
    "            monthly_pay_price = float(input(\"How much does a monthly card cost? \"))\n",
    "            if monthly_pay_price < 0:\n",
    "                raise ValueError\n",
    "            break\n",
    "        except ValueError:\n",
    "            print(\"Only positive numbers allowed\")\n",
    "    if monthly_pay_price < frequency * single_fare_price:\n",
    "        print(f\"As the cost for a monthly card ({monthly_pay_price} kr) is less than buying multiple single fare tickets ({frequency * single_fare_price} kr) it is worth it to buy a monthly card. \")\n",
    "    elif monthly_pay_price > frequency * single_fare_price:\n",
    "        print(f\"As the cost for a monthly card ({monthly_pay_price} kr) is greater than buying multiple single fare tickets ({frequency * single_fare_price} kr) it is not worth it to buy a monthly card. \")\n",
    "    elif monthly_pay_price == frequency * single_fare_price:\n",
    "        print(f\"As the cost for a monthly card ({monthly_pay_price} kr) is equal to buying multiple single fare tickets ({frequency * single_fare_price} kr) it is neither better or worse to buy a monthly card. \")\n",
    "    while True:\n",
    "        try:\n",
    "            user_choice = input(\"Do you want to calculate another sum?\\n1. Yes\\n2. No\")\n",
    "            if user_choice not in [\"1\", \"2\"]:\n",
    "                raise ValueError\n",
    "            else:\n",
    "                if user_choice == \"1\":\n",
    "                    continue\n",
    "                elif user_choice == \"2\":\n",
    "                    print(\"Thanks for using this program! \")\n",
    "                    break\n",
    "        except ValueError:\n",
    "            print(\"Only viable options are 1 or 2\")\n",
    "    break\n",
    "    \n",
    "\n",
    "\n"
   ]
  },
  {
   "cell_type": "code",
   "execution_count": 12,
   "id": "e01e64a8",
   "metadata": {},
   "outputs": [],
   "source": [
    "# 8. Dice rolls\n",
    "\n",
    "# a) \n",
    "import random\n",
    "\n",
    "empty_list = []\n",
    "\n",
    "for x in range(20):\n",
    "    dice_roll = random.randint(1, 6)\n",
    "    empty_list.append(str(dice_roll))\n",
    "\n",
    "with open(\"dice_rolls.txt\", \"w\") as file:\n",
    "    for x in empty_list:\n",
    "        file.write(x + \" \")\n",
    "    file.write(\"\\n\\n\")\n",
    "\n",
    "# b)\n",
    "empty_list.sort()\n",
    "\n",
    "with open(\"dice_rolls.txt\", \"a\") as file:\n",
    "    for x in empty_list:\n",
    "        file.write(x + \" \")\n",
    "    file.write(\"\\n\\n\")\n",
    "\n",
    "# c)\n",
    "with open(\"dice_rolls.txt\", \"a\") as file:\n",
    "    for x in empty_list:\n",
    "        if x == \"4\":\n",
    "            file.write(x + \" \")\n",
    "        else:\n",
    "            continue\n",
    "\n"
   ]
  },
  {
   "cell_type": "code",
   "execution_count": 15,
   "id": "20a28ac8",
   "metadata": {},
   "outputs": [],
   "source": [
    "# 11. Dice roll experiment\n",
    "\n",
    "import random\n",
    "\n",
    "to_power_of = 1\n",
    "one = 0\n",
    "two = 0\n",
    "three = 0\n",
    "four = 0\n",
    "five = 0\n",
    "six = 0\n",
    "total = 0\n",
    "\n",
    "for x in range(5):\n",
    "    with open(\"simulation.txt\", \"a\") as file:\n",
    "        file.write(f\"Number of dices = {10 ** (x + 1)}\\n\")\n",
    "    for x in range(10**to_power_of):\n",
    "        dice_rolls = random.randint(1, 6)\n",
    "        dice_rolls = str(dice_rolls)\n",
    "        if dice_rolls == \"1\":\n",
    "            one = one + 1\n",
    "        elif dice_rolls == \"2\":\n",
    "            two = two + 1\n",
    "        elif dice_rolls == \"3\":\n",
    "            three = three + 1\n",
    "        elif dice_rolls == \"4\":\n",
    "            four = four + 1\n",
    "        elif dice_rolls == \"5\":\n",
    "            five = five + 1\n",
    "        elif dice_rolls == \"6\":\n",
    "            six = six + 1\n",
    "        total = total + 1\n",
    "        with open(\"simulation.txt\", \"a\") as file:\n",
    "            file.write(dice_rolls)\n",
    "    with open(\"simulation.txt\", \"a\") as file:\n",
    "        file.write(f\"\\nProbability of one = {one / total}\\nProbability of two = {two / total}\\nProbability of three = {three / total}\\nProbability of four = {four / total}\\nProbability of five = {five / total}\\nProbability of six = {six / total}\\n\\n\\n\")\n",
    "    to_power_of = to_power_of + 1\n"
   ]
  },
  {
   "cell_type": "code",
   "execution_count": 17,
   "id": "aa07cd6a",
   "metadata": {},
   "outputs": [
    {
     "data": {
      "image/png": "[encoded data removed]",
      "text/plain": [
       "<Figure size 640x480 with 1 Axes>"
      ]
     },
     "metadata": {},
     "output_type": "display_data"
    },
    {
     "data": {
      "image/png": "[encoded data removed]",
      "text/plain": [
       "<Figure size 640x480 with 1 Axes>"
      ]
     },
     "metadata": {},
     "output_type": "display_data"
    }
   ],
   "source": [
    "# 10. National test\n",
    "\n",
    "import matplotlib.pyplot as plt\n",
    "import numpy\n",
    "\n",
    "pie_chart_1 = numpy.array([0.0, 0.0, 2.4, 5.3, 37.3, 55.0])\n",
    "pie_chart_labels_1 = [\"A\", \"B\", \"C\", \"D\", \"E\", \"F\"]\n",
    "\n",
    "pie_chart_2 = numpy.array([8.4, 14.2, 26.9, 16.6, 21.3, 12.6])\n",
    "pie_chart_labels_2 = [\"A\", \"B\", \"C\", \"D\", \"E\", \"F\"]\n",
    "\n",
    "plt.pie(pie_chart_1, labels= pie_chart_labels_1)\n",
    "plt.show()\n",
    "\n",
    "plt.pie(pie_chart_2, labels= pie_chart_labels_2)\n",
    "plt.show()"
   ]
  }
 ],
 "metadata": {
  "kernelspec": {
   "display_name": "programmering_karl_rydberg_de25",
   "language": "python",
   "name": "python3"
  },
  "language_info": {
   "codemirror_mode": {
    "name": "ipython",
    "version": 3
   },
   "file_extension": ".py",
   "mimetype": "text/x-python",
   "name": "python",
   "nbconvert_exporter": "python",
   "pygments_lexer": "ipython3",
   "version": "3.12.8"
  }
 },
 "nbformat": 4,
 "nbformat_minor": 5
}
