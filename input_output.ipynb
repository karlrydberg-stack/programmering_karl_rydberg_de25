{
 "cells": [
  {
   "cell_type": "markdown",
   "id": "58d20d39",
   "metadata": {},
   "source": [
    "# Inputs and outputs"
   ]
  },
  {
   "cell_type": "code",
   "execution_count": 6,
   "id": "f0dbbdc3",
   "metadata": {},
   "outputs": [
    {
     "name": "stdout",
     "output_type": "stream",
     "text": [
      "Your name is Karl and you are 23 years old\n"
     ]
    }
   ],
   "source": [
    "name = input(\"What is your name? \")\n",
    "age = input(\"What is your age? \")\n",
    "print(f\"Your name is {name} and you are {age} years old\")"
   ]
  },
  {
   "cell_type": "code",
   "execution_count": null,
   "id": "c747ef21",
   "metadata": {},
   "outputs": [
    {
     "name": "stdout",
     "output_type": "stream",
     "text": [
      "Your BMI is bmi = 24.2\n"
     ]
    }
   ],
   "source": [
    "height = \"1.84\"\n",
    "weight = 82\n",
    "bmi = weight / (float(height) **2)\n",
    "print(f\"Result: {bmi = :.1f}\")"
   ]
  },
  {
   "cell_type": "code",
   "execution_count": 11,
   "id": "3f65e34e",
   "metadata": {},
   "outputs": [
    {
     "data": {
      "text/plain": [
       "(float, int, bool, str)"
      ]
     },
     "execution_count": 11,
     "metadata": {},
     "output_type": "execute_result"
    }
   ],
   "source": [
    "float_variable = 7.7\n",
    "integer_variable = 10\n",
    "bool_variable = True\n",
    "string_variable = \"Hello World\"\n",
    "type(float_variable), type(integer_variable), type(bool_variable), type(string_variable)"
   ]
  }
 ],
 "metadata": {
  "kernelspec": {
   "display_name": "programmering_karl_rydberg_de25",
   "language": "python",
   "name": "python3"
  },
  "language_info": {
   "codemirror_mode": {
    "name": "ipython",
    "version": 3
   },
   "file_extension": ".py",
   "mimetype": "text/x-python",
   "name": "python",
   "nbconvert_exporter": "python",
   "pygments_lexer": "ipython3",
   "version": "3.12.8"
  }
 },
 "nbformat": 4,
 "nbformat_minor": 5
}
