{
 "cells": [
  {
   "cell_type": "code",
   "execution_count": null,
   "id": "c507f005",
   "metadata": {},
   "outputs": [],
   "source": [
    "#Video pitch, start with uml, how it is structured with inheritance, attributes, methods, then go through the nitty gritty code\n",
    "#Keep it to ten minutes, no need to explain every bit of code\n",
    "#Specify units, like area units and length units\n",
    "#Compare both area and perimeter? \n",
    "\n",
    "\n",
    "import pytest\n",
    "\n",
    "def "
   ]
  }
 ],
 "metadata": {
  "kernelspec": {
   "display_name": "programmering_karl_rydberg_de25",
   "language": "python",
   "name": "python3"
  },
  "language_info": {
   "name": "python",
   "version": "3.12.8"
  }
 },
 "nbformat": 4,
 "nbformat_minor": 5
}
