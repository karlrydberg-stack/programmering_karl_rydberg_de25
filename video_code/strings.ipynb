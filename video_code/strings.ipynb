{
 "cells": [
  {
   "cell_type": "code",
   "execution_count": null,
   "id": "448d3962",
   "metadata": {},
   "outputs": [],
   "source": [
    "firstname = \"Kokchun\"\n",
    "lastname = \"Giang\"\n",
    "print(firstname + \" \" + lastname)"
   ]
  },
  {
   "cell_type": "code",
   "execution_count": null,
   "id": "f93c8f47",
   "metadata": {},
   "outputs": [],
   "source": [
    "work = \"AIgineer\"\n",
    "address = \"Liljeholmen\"\n",
    "\n",
    "print(f\"Company: {work}\\nAddress: {address}\")"
   ]
  },
  {
   "cell_type": "code",
   "execution_count": null,
   "id": "c34fecc4",
   "metadata": {},
   "outputs": [],
   "source": [
    "print(\"\"\"1.\n",
    "2.\n",
    "3.\n",
    "\"\"\")\n",
    "print(\"\\n1.\\n2.\\n3.\")"
   ]
  },
  {
   "cell_type": "code",
   "execution_count": null,
   "id": "ef0c9733",
   "metadata": {},
   "outputs": [],
   "source": [
    "fruit = \"Apple\", \"Orange\", \"Pear\"\n",
    "\n",
    "for x in fruit:\n",
    "    print(f\"I like {x}\")"
   ]
  },
  {
   "cell_type": "code",
   "execution_count": 25,
   "id": "d5c42919",
   "metadata": {},
   "outputs": [
    {
     "data": {
      "text/plain": [
       "'String'"
      ]
     },
     "execution_count": 25,
     "metadata": {},
     "output_type": "execute_result"
    }
   ],
   "source": [
    "name = \"String\"\n",
    "name[0:]"
   ]
  },
  {
   "cell_type": "code",
   "execution_count": 2,
   "id": "c757ecce",
   "metadata": {},
   "outputs": [
    {
     "name": "stdout",
     "output_type": "stream",
     "text": [
      "['att', 'att']\n"
     ]
    }
   ],
   "source": [
    "import re\n",
    "\n",
    "text = \"Det var en gång en katt som tog på sig en hatt.\"\n",
    "\n",
    "list_letter_att = re.findall(\"att\", text)\n",
    "\n",
    "print(list_letter_att)"
   ]
  },
  {
   "cell_type": "code",
   "execution_count": 4,
   "id": "4bdbd479",
   "metadata": {},
   "outputs": [
    {
     "name": "stdout",
     "output_type": "stream",
     "text": [
      "['katt', 'hatt']\n"
     ]
    }
   ],
   "source": [
    "import re\n",
    "\n",
    "text = \"Det var en gång en katt som tog på sig en hatt.\"\n",
    "\n",
    "list_word_att = re.findall(\".att\", text)\n",
    "\n",
    "print(list_word_att)"
   ]
  },
  {
   "cell_type": "code",
   "execution_count": 9,
   "id": "37aa508e",
   "metadata": {},
   "outputs": [
    {
     "name": "stdout",
     "output_type": "stream",
     "text": [
      "['123', '345']\n"
     ]
    }
   ],
   "source": [
    "personal_number = \"Ida: 123, Jörgen: 345\"\n",
    "\n",
    "list_number = re.findall(r\"\\d{3}\", personal_number)\n",
    "\n",
    "print(list_number)"
   ]
  }
 ],
 "metadata": {
  "kernelspec": {
   "display_name": "programmering_karl_rydberg_de25",
   "language": "python",
   "name": "python3"
  },
  "language_info": {
   "codemirror_mode": {
    "name": "ipython",
    "version": 3
   },
   "file_extension": ".py",
   "mimetype": "text/x-python",
   "name": "python",
   "nbconvert_exporter": "python",
   "pygments_lexer": "ipython3",
   "version": "3.12.8"
  }
 },
 "nbformat": 4,
 "nbformat_minor": 5
}
