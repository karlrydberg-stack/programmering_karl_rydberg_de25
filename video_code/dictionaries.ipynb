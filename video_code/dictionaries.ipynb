{
 "cells": [
  {
   "cell_type": "code",
   "execution_count": 5,
   "id": "51116eef",
   "metadata": {},
   "outputs": [
    {
     "data": {
      "text/plain": [
       "'Kokchun'"
      ]
     },
     "execution_count": 5,
     "metadata": {},
     "output_type": "execute_result"
    }
   ],
   "source": [
    "person = dict(\n",
    "    name = \"Kokchun\",\n",
    "    age = 34.9,\n",
    "    work = \"teacher\"\n",
    ")\n",
    "\n",
    "person[\"name\"]"
   ]
  },
  {
   "cell_type": "code",
   "execution_count": null,
   "id": "5c599afe",
   "metadata": {},
   "outputs": [
    {
     "name": "stdout",
     "output_type": "stream",
     "text": [
      "name: Kockchun\n",
      "age: 34.9\n",
      "work: Teacher\n"
     ]
    }
   ],
   "source": [
    "person = {\"name\": \"Kockchun\", \"age\": 34.9, \"work\": \"Teacher\"}\n",
    "\n",
    "for x, y in person.items():\n",
    "    print(f\"{x}: {y}\")"
   ]
  },
  {
   "cell_type": "code",
   "execution_count": 1,
   "id": "1b08dae2",
   "metadata": {},
   "outputs": [
    {
     "name": "stdout",
     "output_type": "stream",
     "text": [
      "data structure: means of storing data\n",
      "regression: a function to best fit the data\n",
      "method: function bound to an object\n"
     ]
    }
   ],
   "source": [
    "words = {\"data structure\" : \"means of storing data\",\n",
    "         \"regression\" : \"a function to best fit the data\",\n",
    "         \"method\" : \"function bound to an object\"}\n",
    "\n",
    "for x, y in words.items():\n",
    "    print(f\"{x}: {y}\")"
   ]
  },
  {
   "cell_type": "code",
   "execution_count": 3,
   "id": "6a4f7565",
   "metadata": {},
   "outputs": [
    {
     "name": "stdout",
     "output_type": "stream",
     "text": [
      "data structure\n",
      "regression\n",
      "method\n"
     ]
    }
   ],
   "source": [
    "words = {\"data structure\" : \"means of storing data\",\n",
    "         \"regression\" : \"a function to best fit the data\",\n",
    "         \"method\" : \"function bound to an object\"}\n",
    "\n",
    "for x in words.keys():\n",
    "    print(x)"
   ]
  },
  {
   "cell_type": "code",
   "execution_count": 15,
   "id": "7de0f233",
   "metadata": {},
   "outputs": [
    {
     "name": "stdout",
     "output_type": "stream",
     "text": [
      "F : 0-9\n",
      "E : 10-19\n",
      "D : 20-29\n",
      "C : 30-39\n",
      "B : 40-49\n",
      "A : 50-59\n"
     ]
    }
   ],
   "source": [
    "grade_limit = {grade : i*10 for i, grade in enumerate(\"FEDCBA\")}\n",
    "\n",
    "for grade, point in grade_limit.items():\n",
    "    print(f\"{grade} : {point}-{point + 9}\")"
   ]
  }
 ],
 "metadata": {
  "kernelspec": {
   "display_name": "programmering_karl_rydberg_de25",
   "language": "python",
   "name": "python3"
  },
  "language_info": {
   "codemirror_mode": {
    "name": "ipython",
    "version": 3
   },
   "file_extension": ".py",
   "mimetype": "text/x-python",
   "name": "python",
   "nbconvert_exporter": "python",
   "pygments_lexer": "ipython3",
   "version": "3.12.8"
  }
 },
 "nbformat": 4,
 "nbformat_minor": 5
}
