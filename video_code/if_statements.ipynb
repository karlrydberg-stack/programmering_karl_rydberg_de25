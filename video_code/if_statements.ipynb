{
 "cells": [
  {
   "cell_type": "code",
   "execution_count": null,
   "id": "b4aed31f",
   "metadata": {},
   "outputs": [],
   "source": [
    "age = int(input(\"What is your age? \"))\n",
    "age_limit = 15\n",
    "if age < age_limit:\n",
    "    print(\"You cant do this\")\n",
    "else:\n",
    "    print(\"Welcome\")"
   ]
  },
  {
   "cell_type": "code",
   "execution_count": null,
   "id": "cf5ccdeb",
   "metadata": {},
   "outputs": [],
   "source": [
    "age = 10\n",
    "height = 150\n",
    "\n",
    "if age > 10 and 140 < height < 220:\n",
    "    print(\"Welcome to roller coaster\")\n",
    "else:\n",
    "    print(\"No\")"
   ]
  },
  {
   "cell_type": "code",
   "execution_count": null,
   "id": "70b72965",
   "metadata": {},
   "outputs": [],
   "source": [
    "x = 1\n",
    "print(not(bool(x)))"
   ]
  },
  {
   "cell_type": "code",
   "execution_count": null,
   "id": "62adc5b5",
   "metadata": {},
   "outputs": [],
   "source": [
    "number = 6\n",
    "if number % 2 == 0:\n",
    "    print(f\"{number} is even\")\n",
    "else:\n",
    "    print(\"Odd\")"
   ]
  },
  {
   "cell_type": "code",
   "execution_count": null,
   "id": "a199cb96",
   "metadata": {},
   "outputs": [
    {
     "name": "stdout",
     "output_type": "stream",
     "text": [
      "Amount must be a positive integer\n",
      "Amount must be a positive integer\n",
      "Amount must be a positive integer\n",
      "Only viable options are 1, 2 or 3\n",
      "Only viable options are 1, 2 or 3\n",
      "Price for 1 apples: 5.0 kr\n"
     ]
    }
   ],
   "source": [
    "while True:\n",
    "    while True:\n",
    "        try:\n",
    "            amount = int(input(\"How many apples? \"))\n",
    "            if amount < 1:\n",
    "                raise ValueError\n",
    "            break\n",
    "        except ValueError:\n",
    "            print(\"Amount must be a positive integer\")\n",
    "    while True:\n",
    "        try:\n",
    "            age = input(\"1. Pensioner\\n2. Student\\n3. None\")\n",
    "            if age not in [\"1\", \"2\", \"3\"]:\n",
    "                raise ValueError\n",
    "            break\n",
    "        except ValueError:\n",
    "            print(\"Only viable options are 1, 2 or 3\")\n",
    "    break\n",
    "\n",
    "if age == \"1\":\n",
    "    print(f\"Price for {amount} apple(s): {amount * 10 * 0.5} kr\")\n",
    "elif age == \"2\":\n",
    "    print(f\"Price for {amount} apple(s): {amount * 10 * 0.7} kr\")\n",
    "elif age == \"3\":\n",
    "    print(f\"Price for {amount} apple(s): {amount * 10} kr\")\n"
   ]
  }
 ],
 "metadata": {
  "kernelspec": {
   "display_name": "programmering_karl_rydberg_de25",
   "language": "python",
   "name": "python3"
  },
  "language_info": {
   "codemirror_mode": {
    "name": "ipython",
    "version": 3
   },
   "file_extension": ".py",
   "mimetype": "text/x-python",
   "name": "python",
   "nbconvert_exporter": "python",
   "pygments_lexer": "ipython3",
   "version": "3.12.8"
  }
 },
 "nbformat": 4,
 "nbformat_minor": 5
}
