{
 "cells": [
  {
   "cell_type": "code",
   "execution_count": 14,
   "id": "a5b81063",
   "metadata": {},
   "outputs": [
    {
     "name": "stdout",
     "output_type": "stream",
     "text": [
      "Person Birger says hi\n"
     ]
    }
   ],
   "source": [
    "from old_coins import OldCoinsStash\n",
    "\n",
    "class Person:\n",
    "    def __init__(self, name: str, age: int):\n",
    "        self.name = name\n",
    "        self.age = age\n",
    "    \n",
    "    @property\n",
    "    def age(self):\n",
    "        return self._age\n",
    "    @age.setter\n",
    "    def age(self, new_age):\n",
    "        if not isinstance(new_age, (float, int)):\n",
    "            raise ValueError(\"Age can only be numeric\")\n",
    "        else:\n",
    "            if new_age < 0 or new_age > 125:\n",
    "                raise ValueError(\"Age must be between 0 and 125\")\n",
    "        self._age = new_age\n",
    "\n",
    "    @property\n",
    "    def name(self):\n",
    "        return self._name \n",
    "    @name.setter\n",
    "    def name(self, new_name):\n",
    "        if not isinstance(new_name, str):\n",
    "            raise ValueError(\"Name must be a string\") \n",
    "        self._name = new_name\n",
    "\n",
    "    def say_hi(self):\n",
    "        print(f\"Person {self.name} says hi\")\n",
    "\n",
    "\n",
    "class Student(Person):\n",
    "    def __init__(self, name: str, age: int, language: str):\n",
    "        super().__init__(name, age)\n",
    "        self.language = language\n",
    "    \n",
    "    def say_hi(self):\n",
    "        print(f\"{self.name} is {self.age} years old and knows {self.language}\")\n",
    "\n",
    "class Viking(Person):\n",
    "    def __init__(self, name: str, age: int):\n",
    "        super().__init__(name, age)\n",
    "        self.stash = OldCoinsStash(name)\n",
    "\n",
    "viking1 = Viking(\"Birger\", 33)\n",
    "viking1.say_hi()"
   ]
  }
 ],
 "metadata": {
  "kernelspec": {
   "display_name": "programmering_karl_rydberg_de25",
   "language": "python",
   "name": "python3"
  },
  "language_info": {
   "codemirror_mode": {
    "name": "ipython",
    "version": 3
   },
   "file_extension": ".py",
   "mimetype": "text/x-python",
   "name": "python",
   "nbconvert_exporter": "python",
   "pygments_lexer": "ipython3",
   "version": "3.12.8"
  }
 },
 "nbformat": 4,
 "nbformat_minor": 5
}
