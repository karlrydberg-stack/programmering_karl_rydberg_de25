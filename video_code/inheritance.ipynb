{
 "cells": [
  {
   "cell_type": "code",
   "execution_count": 41,
   "id": "a5b81063",
   "metadata": {},
   "outputs": [
    {
     "name": "stdout",
     "output_type": "stream",
     "text": [
      "Person Birger says hi\n"
     ]
    }
   ],
   "source": [
    "from old_coins import OldCoinsStash\n",
    "\n",
    "class Person:\n",
    "    def __init__(self, name: str, age: int):\n",
    "        self.name = name\n",
    "        self.age = age\n",
    "    \n",
    "    @property\n",
    "    def age(self):\n",
    "        return self._age\n",
    "    @age.setter\n",
    "    def age(self, new_age):\n",
    "        if not isinstance(new_age, (float, int)):\n",
    "            raise ValueError(\"Age can only be numeric\")\n",
    "        else:\n",
    "            if new_age < 0 or new_age > 125:\n",
    "                raise ValueError(\"Age must be between 0 and 125\")\n",
    "        self._age = new_age\n",
    "\n",
    "    @property\n",
    "    def name(self):\n",
    "        return self._name \n",
    "    @name.setter\n",
    "    def name(self, new_name):\n",
    "        if not isinstance(new_name, str):\n",
    "            raise ValueError(\"Name must be a string\") \n",
    "        self._name = new_name\n",
    "\n",
    "    def say_hi(self):\n",
    "        print(f\"Person {self.name} says hi\")\n",
    "\n",
    "\n",
    "class Student(Person):\n",
    "    def __init__(self, name: str, age: int, language: str):\n",
    "        super().__init__(name, age)\n",
    "        self.language = language\n",
    "    \n",
    "    def say_hi(self):\n",
    "        print(f\"{self.name} is {self.age} years old and knows {self.language}\")\n",
    "\n",
    "class Viking(Person):\n",
    "    def __init__(self, name: str, age: int):\n",
    "        super().__init__(name, age)\n",
    "        self.stash = OldCoinsStash(name)\n",
    "\n",
    "\n",
    "viking1 = Viking(\"Birger\", 33)\n",
    "viking1.say_hi()"
   ]
  },
  {
   "cell_type": "code",
   "execution_count": 42,
   "id": "07d9519e",
   "metadata": {},
   "outputs": [
    {
     "data": {
      "text/plain": [
       "OldCoinStash(owner='Bjorn')"
      ]
     },
     "execution_count": 42,
     "metadata": {},
     "output_type": "execute_result"
    }
   ],
   "source": [
    "from old_coins import OldCoinsStash\n",
    "\n",
    "stash_ragnar = OldCoinsStash(\"Ragnar Lothbrok\")\n",
    "stash_ragnar.deposit(100, 100)\n",
    "stash_ragnar.check_balance()\n",
    "\n",
    "stash_bjorn = OldCoinsStash(\"Bjorn\")\n",
    "stash_bjorn"
   ]
  },
  {
   "cell_type": "code",
   "execution_count": 43,
   "id": "08d8c09e",
   "metadata": {},
   "outputs": [
    {
     "name": "stdout",
     "output_type": "stream",
     "text": [
      "Björn says hi!\n"
     ]
    }
   ],
   "source": [
    "class Person:\n",
    "    def __init__(self, name: str, age: int):\n",
    "        self._name = name\n",
    "        self.age = age\n",
    "    \n",
    "    @property\n",
    "    def name(self):\n",
    "        return self._name\n",
    "    \n",
    "    @property\n",
    "    def age(self):\n",
    "        return self._age\n",
    "    @age.setter\n",
    "    def age(self, new_age):\n",
    "        if not isinstance(new_age, int):\n",
    "            raise ValueError(\"Age can only be an integer\")\n",
    "        else:\n",
    "            if new_age < 0 or new_age > 125:\n",
    "                raise ValueError(\"Age must be between 0 and 125\")\n",
    "        self._age = new_age\n",
    "    \n",
    "    def say_hi(self):\n",
    "        print(f\"{self.name} says hi!\")\n",
    "\n",
    "try:\n",
    "    p1 = Person(\"Björn\", 1)\n",
    "except ValueError as err:\n",
    "    print(err)\n",
    "\n",
    "p1.say_hi()"
   ]
  },
  {
   "cell_type": "code",
   "execution_count": 44,
   "id": "c8484f6a",
   "metadata": {},
   "outputs": [
    {
     "name": "stdout",
     "output_type": "stream",
     "text": [
      "Ola knows Python\n"
     ]
    }
   ],
   "source": [
    "class Student(Person):\n",
    "    def __init__(self, name, age, language):\n",
    "        super().__init__(name, age)\n",
    "        self.language = language\n",
    "    \n",
    "    def say_hi(self):\n",
    "        print(f\"{self.name} knows {self.language}\")\n",
    "\n",
    "s1 = Student(\"Ola\", 57, \"Python\")\n",
    "s1.say_hi()"
   ]
  },
  {
   "cell_type": "code",
   "execution_count": 47,
   "id": "886e4b75",
   "metadata": {},
   "outputs": [
    {
     "data": {
      "text/plain": [
       "'Coins in stash: 100 riksdaler, 100 skilling'"
      ]
     },
     "execution_count": 47,
     "metadata": {},
     "output_type": "execute_result"
    }
   ],
   "source": [
    "from old_coins import OldCoinsStash\n",
    "class Viking(Person):\n",
    "    def __init__(self, name, age):\n",
    "        super().__init__(name, age)\n",
    "        self.OldCoinsStash = OldCoinsStash(name)\n",
    "\n",
    "v1 = Viking(\"Ragnar\", 0)\n",
    "v1.OldCoinsStash.deposit(100, 100)\n",
    "v1.OldCoinsStash.check_balance()"
   ]
  }
 ],
 "metadata": {
  "kernelspec": {
   "display_name": "programmering_karl_rydberg_de25",
   "language": "python",
   "name": "python3"
  },
  "language_info": {
   "codemirror_mode": {
    "name": "ipython",
    "version": 3
   },
   "file_extension": ".py",
   "mimetype": "text/x-python",
   "name": "python",
   "nbconvert_exporter": "python",
   "pygments_lexer": "ipython3",
   "version": "3.12.8"
  }
 },
 "nbformat": 4,
 "nbformat_minor": 5
}
