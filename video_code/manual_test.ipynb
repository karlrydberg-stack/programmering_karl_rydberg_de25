{
 "cells": [
  {
   "cell_type": "code",
   "execution_count": 3,
   "id": "8ec55572",
   "metadata": {},
   "outputs": [],
   "source": [
    "from vector import Vector\n",
    "\n",
    "# vector with 2 and 5\n",
    "\n",
    "vector1 = Vector(2, 5)\n",
    "\n",
    "vector2 = Vector(-1, 1)"
   ]
  },
  {
   "cell_type": "code",
   "execution_count": 4,
   "id": "15bfbb78",
   "metadata": {},
   "outputs": [
    {
     "name": "stdout",
     "output_type": "stream",
     "text": [
      "2\n",
      "(2.0, 5.0)\n"
     ]
    },
    {
     "data": {
      "text/plain": [
       "Vector(1.0, 6.0)"
      ]
     },
     "execution_count": 4,
     "metadata": {},
     "output_type": "execute_result"
    }
   ],
   "source": [
    "print(len(vector1))\n",
    "print(vector1.numbers)\n",
    "vector1 + vector2"
   ]
  },
  {
   "cell_type": "code",
   "execution_count": 7,
   "id": "c317c3b1",
   "metadata": {},
   "outputs": [
    {
     "name": "stdout",
     "output_type": "stream",
     "text": [
      "'1' is not valid number in a vector\n",
      "Both must be Vector and have the same length\n"
     ]
    }
   ],
   "source": [
    "try:\n",
    "    vector3 = Vector(\"1\",\"2\")\n",
    "except TypeError as err:\n",
    "    print(err)\n",
    "\n",
    "vector4 = Vector(1, 2)\n",
    "vector5 = Vector(1, 2, 3)\n",
    "try:\n",
    "    vector4 + vector5\n",
    "except TypeError as err:\n",
    "    print(err)"
   ]
  },
  {
   "cell_type": "code",
   "execution_count": 8,
   "id": "106db704",
   "metadata": {},
   "outputs": [],
   "source": [
    "#automatical testing\n",
    "x = 5\n",
    "assert x == 5"
   ]
  },
  {
   "cell_type": "code",
   "execution_count": null,
   "id": "7e28552c",
   "metadata": {},
   "outputs": [],
   "source": [
    "assert x == 4"
   ]
  }
 ],
 "metadata": {
  "kernelspec": {
   "display_name": "programmering_karl_rydberg_de25",
   "language": "python",
   "name": "python3"
  },
  "language_info": {
   "codemirror_mode": {
    "name": "ipython",
    "version": 3
   },
   "file_extension": ".py",
   "mimetype": "text/x-python",
   "name": "python",
   "nbconvert_exporter": "python",
   "pygments_lexer": "ipython3",
   "version": "3.12.8"
  }
 },
 "nbformat": 4,
 "nbformat_minor": 5
}
