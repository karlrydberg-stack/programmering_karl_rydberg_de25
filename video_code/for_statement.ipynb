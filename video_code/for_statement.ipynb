{
 "cells": [
  {
   "cell_type": "code",
   "execution_count": 8,
   "id": "8e384f98",
   "metadata": {},
   "outputs": [
    {
     "name": "stdout",
     "output_type": "stream",
     "text": [
      "6\n",
      "2\n",
      "3\n",
      "4\n",
      "1\n",
      "1\n",
      "5\n",
      "5\n",
      "4\n",
      "6\n",
      "The number 6 appeared 2 times\n"
     ]
    }
   ],
   "source": [
    "import random\n",
    "\n",
    "sum_ = 0\n",
    "\n",
    "for x in range(10):\n",
    "    dice = random.randint(1, 6)\n",
    "    print(dice)\n",
    "    if dice == 6:\n",
    "        sum_ = sum_ + 1\n",
    "print(f\"The number 6 appeared {sum_} times\")"
   ]
  },
  {
   "cell_type": "code",
   "execution_count": 13,
   "id": "143f0561",
   "metadata": {},
   "outputs": [
    {
     "name": "stdout",
     "output_type": "stream",
     "text": [
      "My favorite fruits are:\n",
      "0 Apple\n",
      "1 Orange\n",
      "2 Banana\n"
     ]
    }
   ],
   "source": [
    "fruits = [\"Apple\", \"Orange\", \"Banana\"]\n",
    "print(\"My favorite fruits are:\")\n",
    "for x, fruit in enumerate(fruits):\n",
    "    print(f\"{x} {fruit}\")"
   ]
  },
  {
   "cell_type": "code",
   "execution_count": 19,
   "id": "3efbcf5e",
   "metadata": {},
   "outputs": [
    {
     "name": "stdout",
     "output_type": "stream",
     "text": [
      "Apple               Pie\n",
      "Strawberry          Cake\n"
     ]
    }
   ],
   "source": [
    "fruits = [\"Apple\", \"Strawberry\"]\n",
    "recipes = [\"Pie\", \"Cake\"]\n",
    "\n",
    "for fruit, recipe in zip(fruits, recipes):\n",
    "    print(f\"{fruit:<20}{recipe}\")"
   ]
  }
 ],
 "metadata": {
  "kernelspec": {
   "display_name": "programmering_karl_rydberg_de25",
   "language": "python",
   "name": "python3"
  },
  "language_info": {
   "codemirror_mode": {
    "name": "ipython",
    "version": 3
   },
   "file_extension": ".py",
   "mimetype": "text/x-python",
   "name": "python",
   "nbconvert_exporter": "python",
   "pygments_lexer": "ipython3",
   "version": "3.12.8"
  }
 },
 "nbformat": 4,
 "nbformat_minor": 5
}
