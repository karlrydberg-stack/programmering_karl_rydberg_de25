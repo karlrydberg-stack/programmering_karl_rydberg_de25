{
 "cells": [
  {
   "cell_type": "code",
   "execution_count": null,
   "id": "8468fe18",
   "metadata": {},
   "outputs": [],
   "source": [
    "with open(r\"C:\\Users\\kalle\\Documents\\Github\\programmering_karl_rydberg_de25\\video_code\\file_handling\\test.txt\", \"r\") as file:\n",
    "    file = file.read()\n",
    "    for x in file:\n",
    "        if x == \"b\":\n",
    "            continue\n",
    "        else:\n",
    "            print(x)"
   ]
  },
  {
   "cell_type": "code",
   "execution_count": 1,
   "id": "9c787518",
   "metadata": {},
   "outputs": [],
   "source": [
    "import re # Try to extract only authors from line\n",
    "\n",
    "quotes = []\n",
    "\n",
    "i = 1\n",
    "\n",
    "with open(\"quotes.txt\", \"r\") as file, open(\"cleaned_quotes.txt\", \"w\") as write_to_file:\n",
    "    for x in file:\n",
    "        x = x.strip(\" \\n\")\n",
    "        x = re.sub(\" +\", \" \", x)\n",
    "        quotes.append(x)\n",
    "    quotes = [x for x in quotes if x]\n",
    "    for x in quotes:\n",
    "        write_to_file.write(f\"{i}. {x}\")\n",
    "        write_to_file.write(\"\\n\")\n",
    "        i = i + 1\n"
   ]
  },
  {
   "cell_type": "code",
   "execution_count": 52,
   "id": "9388e445",
   "metadata": {},
   "outputs": [
    {
     "name": "stdout",
     "output_type": "stream",
     "text": [
      "['1. If we knew what it was we were doing, it would not be called research, would it? - Albert Einstein\\n2. Time is a drug. Too much of it kills you. - Terry Pratchett\\n3. An expert is a person who has made all the mistakes that can be made in a very narrow field - Niels Bohr\\n4. Everything must be made as simple as possible. But not simpler. - Albert Einstein\\n5. Nothing in life is to be feared, it is only to be understood. Now is the time to understand more, so that we may fear less. - Marie Curie\\n6. If I have seen further it is by standing on the shoulders of Giants. - Isaac Newton\\n']\n"
     ]
    }
   ],
   "source": [
    "import re\n",
    "\n",
    "counter = 1\n",
    "with open(\"cleaned_quotes.txt\", \"r\") as file:\n",
    "    file = file.read()\n",
    "    file = re.split(r\"\\-\\b\\n\", file)\n",
    "    \n",
    "    print(file)\n",
    "\n",
    "    "
   ]
  }
 ],
 "metadata": {
  "kernelspec": {
   "display_name": "programmering_karl_rydberg_de25",
   "language": "python",
   "name": "python3"
  },
  "language_info": {
   "codemirror_mode": {
    "name": "ipython",
    "version": 3
   },
   "file_extension": ".py",
   "mimetype": "text/x-python",
   "name": "python",
   "nbconvert_exporter": "python",
   "pygments_lexer": "ipython3",
   "version": "3.12.8"
  }
 },
 "nbformat": 4,
 "nbformat_minor": 5
}
