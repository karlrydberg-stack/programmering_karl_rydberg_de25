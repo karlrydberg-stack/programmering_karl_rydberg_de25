{
 "cells": [
  {
   "cell_type": "code",
   "execution_count": 7,
   "id": "8468fe18",
   "metadata": {},
   "outputs": [
    {
     "name": "stdout",
     "output_type": "stream",
     "text": [
      "a\n",
      "\n",
      "\n",
      "\n",
      "\n",
      "c\n",
      "\n",
      "\n",
      "d\n"
     ]
    }
   ],
   "source": [
    "with open(r\"C:\\Users\\kalle\\Documents\\Github\\programmering_karl_rydberg_de25\\video_code\\file_handling\\test.txt\", \"r\") as file:\n",
    "    file = file.read()\n",
    "    for x in file:\n",
    "        if x == \"b\":\n",
    "            continue\n",
    "        else:\n",
    "            print(x)"
   ]
  }
 ],
 "metadata": {
  "kernelspec": {
   "display_name": "programmering_karl_rydberg_de25",
   "language": "python",
   "name": "python3"
  },
  "language_info": {
   "codemirror_mode": {
    "name": "ipython",
    "version": 3
   },
   "file_extension": ".py",
   "mimetype": "text/x-python",
   "name": "python",
   "nbconvert_exporter": "python",
   "pygments_lexer": "ipython3",
   "version": "3.12.8"
  }
 },
 "nbformat": 4,
 "nbformat_minor": 5
}
