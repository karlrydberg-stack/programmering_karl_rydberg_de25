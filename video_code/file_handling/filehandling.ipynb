{
 "cells": [
  {
   "cell_type": "code",
   "execution_count": null,
   "id": "8468fe18",
   "metadata": {},
   "outputs": [],
   "source": [
    "with open(r\"C:\\Users\\kalle\\Documents\\Github\\programmering_karl_rydberg_de25\\video_code\\file_handling\\test.txt\", \"r\") as file:\n",
    "    file = file.read()\n",
    "    for x in file:\n",
    "        if x == \"b\":\n",
    "            continue\n",
    "        else:\n",
    "            print(x)"
   ]
  },
  {
   "cell_type": "code",
   "execution_count": null,
   "id": "9c787518",
   "metadata": {},
   "outputs": [],
   "source": [
    "import re # Try to extract only authors from line\n",
    "\n",
    "quotes = []\n",
    "\n",
    "i = 1\n",
    "\n",
    "with open(\"quotes.txt\", \"r\") as file, open(\"cleaned_quotes.txt\", \"w\") as write_to_file:\n",
    "    for x in file:\n",
    "        x = x.strip(\" \\n\")\n",
    "        x = re.sub(\" +\", \" \", x)\n",
    "        quotes.append(x)\n",
    "    quotes = [x for x in quotes if x]\n",
    "    for x in quotes:\n",
    "        write_to_file.write(f\"{i}. {x}\")\n",
    "        write_to_file.write(\"\\n\")\n",
    "        i = i + 1\n"
   ]
  }
 ],
 "metadata": {
  "kernelspec": {
   "display_name": "programmering_karl_rydberg_de25",
   "language": "python",
   "name": "python3"
  },
  "language_info": {
   "codemirror_mode": {
    "name": "ipython",
    "version": 3
   },
   "file_extension": ".py",
   "mimetype": "text/x-python",
   "name": "python",
   "nbconvert_exporter": "python",
   "pygments_lexer": "ipython3",
   "version": "3.12.8"
  }
 },
 "nbformat": 4,
 "nbformat_minor": 5
}
