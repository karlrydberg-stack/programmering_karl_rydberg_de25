{
 "cells": [
  {
   "cell_type": "code",
   "execution_count": null,
   "id": "66bd9a0b",
   "metadata": {},
   "outputs": [
    {
     "data": {
      "text/plain": [
       "100"
      ]
     },
     "execution_count": 2,
     "metadata": {},
     "output_type": "execute_result"
    }
   ],
   "source": [
    "def squarer(x): # The parenthesis are the actual callable when the function is used\n",
    "    result = x**2\n",
    "    return(result)\n",
    "\n",
    "squarer(10)"
   ]
  },
  {
   "cell_type": "code",
   "execution_count": null,
   "id": "1ef5b1d8",
   "metadata": {},
   "outputs": [
    {
     "name": "stdout",
     "output_type": "stream",
     "text": [
      "I like to eat Apple\n",
      "But i hate to eat Orange\n",
      "I like to eat Orange\n",
      "But i hate to eat Apple\n",
      "Apple\n",
      "Orange\n",
      "Strawberry\n",
      "fruit1 Apple\n",
      "fruit2 Orange\n"
     ]
    },
    {
     "data": {
      "text/plain": [
       "dict"
      ]
     },
     "execution_count": 7,
     "metadata": {},
     "output_type": "execute_result"
    }
   ],
   "source": [
    "def my_fruits(fruit_like, fruit_hate):\n",
    "    print(f\"I like to eat {fruit_like}\")\n",
    "    print(f\"But i hate to eat {fruit_hate}\")\n",
    "    return None # Python will add this line if you do not have return block\n",
    "\n",
    "my_fruits(\"Apple\", \"Orange\") # Positional arguments, have a designated place in the callable\n",
    "\n",
    "my_fruits(fruit_hate=\"Apple\", fruit_like=\"Orange\") # Keyword argument, position of parameter can be ignored using key values like here\n",
    "\n",
    "def print_fruits(*fruits): # * allows for multiple pos. args, number of these will be unknown, \"fruits\" is actually a tuple \n",
    "    for fruit in fruits:\n",
    "        print(fruit)\n",
    "\n",
    "print_fruits(\"Apple\", \"Orange\", \"Strawberry\")\n",
    "\n",
    "def print_nr_fruits(**fruits): # Multiple keyword arguments using two \"*\"\n",
    "    for key, value in fruits.items():\n",
    "        print(key, value)\n",
    "    return type(fruits)\n",
    "\n",
    "print_nr_fruits(fruit1=\"Apple\", fruit2=\"Orange\") # Key is provided when function is called"
   ]
  }
 ],
 "metadata": {
  "kernelspec": {
   "display_name": "programmering_karl_rydberg_de25",
   "language": "python",
   "name": "python3"
  },
  "language_info": {
   "codemirror_mode": {
    "name": "ipython",
    "version": 3
   },
   "file_extension": ".py",
   "mimetype": "text/x-python",
   "name": "python",
   "nbconvert_exporter": "python",
   "pygments_lexer": "ipython3",
   "version": "3.12.8"
  }
 },
 "nbformat": 4,
 "nbformat_minor": 5
}
