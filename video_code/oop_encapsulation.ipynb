{
 "cells": [
  {
   "cell_type": "code",
   "execution_count": null,
   "id": "da82f330",
   "metadata": {},
   "outputs": [],
   "source": [
    "# Information hiding, user do not need to know excessive underlying code\n",
    "# We can hide validation for example, what are acceptable inputs, like proper age of a person\n",
    "# information to the user about how to use class\n",
    "# One way to do encapsulation is to use private attributes and methods, can not be accessed outside the class\n",
    "# However in python there is no such thing as private\n",
    "# In python - private by convention, using underscore prefix"
   ]
  },
  {
   "cell_type": "code",
   "execution_count": null,
   "id": "8bcded64",
   "metadata": {},
   "outputs": [],
   "source": [
    "#Everything private\n",
    "# Python programmers know that underscore prefix is private by convention\n",
    "class Person:\n",
    "    def __init__(self, name, age):\n",
    "        self.__name = name\n",
    "        self.__age = age\n",
    "\n",
    "p1 = Person(\"Kokchun\", 34)\n",
    "\n",
    "p1.name, p1.age"
   ]
  },
  {
   "cell_type": "code",
   "execution_count": null,
   "id": "8b2a0672",
   "metadata": {},
   "outputs": [],
   "source": [
    "# Name attribute does not exist anymore\n",
    "p2 = Person(\"Ada\", -5)\n",
    "p2.age"
   ]
  },
  {
   "cell_type": "code",
   "execution_count": null,
   "id": "501ff250",
   "metadata": {},
   "outputs": [
    {
     "name": "stdout",
     "output_type": "stream",
     "text": [
      "Age must be between 0 and 125\n"
     ]
    },
    {
     "data": {
      "text/plain": [
       "Name : Bertil, Age : 50"
      ]
     },
     "execution_count": 20,
     "metadata": {},
     "output_type": "execute_result"
    }
   ],
   "source": [
    "# Navive approach for validating age\n",
    "# If value is set afterwards you need to include error handling in the setter also, since the first one works during init\n",
    "class Person:\n",
    "    def __init__(self, name, age):\n",
    "        self.__name = name\n",
    "        if age < 0:\n",
    "            raise ValueError(\"Age must be between 0 and 125\")\n",
    "        self.__age = age\n",
    "    \n",
    "    def __repr__(self):\n",
    "        return f\"Name : {self.__name}, Age : {self.__age}\"\n",
    "\n",
    "try:\n",
    "    p3 = Person(\"Karl\", -2)\n",
    "except ValueError as err:\n",
    "    print(err)\n",
    "\n",
    "p4 = Person(\"Bertil\", 50)\n",
    "p4"
   ]
  },
  {
   "cell_type": "code",
   "execution_count": null,
   "id": "5e54c108",
   "metadata": {},
   "outputs": [
    {
     "name": "stdout",
     "output_type": "stream",
     "text": [
      "age getter called\n"
     ]
    },
    {
     "data": {
      "text/plain": [
       "8"
      ]
     },
     "execution_count": 24,
     "metadata": {},
     "output_type": "execute_result"
    }
   ],
   "source": [
    "# Getter and setter - which get and set values\n",
    "# put in validation code in the setter -> encapsulated validation code\n",
    "# In this example, only getter is defined with the @property\n",
    "\n",
    "class Person:\n",
    "    def __init__(self, name, age):\n",
    "        self.__name = name\n",
    "        if age < 0:\n",
    "            raise ValueError(\"Age must be between 0 and 125\")\n",
    "        self.__age = age\n",
    "    # a decorator, gives function more functionality\n",
    "    # makes it into a property (getter and setter)  \n",
    "    @property\n",
    "    def age(self):\n",
    "        print(\"age getter called\")\n",
    "        return self.__age\n",
    "\n",
    "    def __repr__(self):\n",
    "        return f\"Name : {self.__name}, Age : {self.__age}\"\n",
    "\n",
    "p6 = Person(\"Anna\", 8)\n",
    "\n",
    "p6.age"
   ]
  },
  {
   "cell_type": "code",
   "execution_count": 25,
   "id": "fb774a19",
   "metadata": {},
   "outputs": [
    {
     "ename": "RecursionError",
     "evalue": "maximum recursion depth exceeded",
     "output_type": "error",
     "traceback": [
      "\u001b[31m---------------------------------------------------------------------------\u001b[39m",
      "\u001b[31mRecursionError\u001b[39m                            Traceback (most recent call last)",
      "\u001b[36mCell\u001b[39m\u001b[36m \u001b[39m\u001b[32mIn[25]\u001b[39m\u001b[32m, line 21\u001b[39m\n\u001b[32m     18\u001b[39m     \u001b[38;5;28;01mdef\u001b[39;00m\u001b[38;5;250m \u001b[39m\u001b[34m__repr__\u001b[39m(\u001b[38;5;28mself\u001b[39m):\n\u001b[32m     19\u001b[39m         \u001b[38;5;28;01mreturn\u001b[39;00m \u001b[33mf\u001b[39m\u001b[33m\"\u001b[39m\u001b[33mName : \u001b[39m\u001b[38;5;132;01m{\u001b[39;00m\u001b[38;5;28mself\u001b[39m.__name\u001b[38;5;132;01m}\u001b[39;00m\u001b[33m, Age : \u001b[39m\u001b[38;5;132;01m{\u001b[39;00m\u001b[38;5;28mself\u001b[39m.age\u001b[38;5;132;01m}\u001b[39;00m\u001b[33m\"\u001b[39m\n\u001b[32m---> \u001b[39m\u001b[32m21\u001b[39m p7 = \u001b[43mPerson\u001b[49m\u001b[43m(\u001b[49m\u001b[33;43m\"\u001b[39;49m\u001b[33;43mBoris\u001b[39;49m\u001b[33;43m\"\u001b[39;49m\u001b[43m,\u001b[49m\u001b[43m \u001b[49m\u001b[32;43m10\u001b[39;49m\u001b[43m)\u001b[49m\n\u001b[32m     22\u001b[39m \u001b[38;5;28;01mtry\u001b[39;00m:\n\u001b[32m     23\u001b[39m     p7.age = -\u001b[32m10\u001b[39m\n",
      "\u001b[36mCell\u001b[39m\u001b[36m \u001b[39m\u001b[32mIn[25]\u001b[39m\u001b[32m, line 4\u001b[39m, in \u001b[36mPerson.__init__\u001b[39m\u001b[34m(self, name, age)\u001b[39m\n\u001b[32m      2\u001b[39m \u001b[38;5;28;01mdef\u001b[39;00m\u001b[38;5;250m \u001b[39m\u001b[34m__init__\u001b[39m(\u001b[38;5;28mself\u001b[39m, name, age):\n\u001b[32m      3\u001b[39m     \u001b[38;5;28mself\u001b[39m.__name = name\n\u001b[32m----> \u001b[39m\u001b[32m4\u001b[39m     \u001b[38;5;28;43mself\u001b[39;49m\u001b[43m.\u001b[49m\u001b[43mage\u001b[49m = age\n",
      "\u001b[36mCell\u001b[39m\u001b[36m \u001b[39m\u001b[32mIn[25]\u001b[39m\u001b[32m, line 16\u001b[39m, in \u001b[36mPerson.age\u001b[39m\u001b[34m(self, value)\u001b[39m\n\u001b[32m     14\u001b[39m \u001b[38;5;28;01mif\u001b[39;00m value < \u001b[32m0\u001b[39m:\n\u001b[32m     15\u001b[39m     \u001b[38;5;28;01mraise\u001b[39;00m \u001b[38;5;167;01mValueError\u001b[39;00m(\u001b[33m\"\u001b[39m\u001b[33mAge must be greater than 0\u001b[39m\u001b[33m\"\u001b[39m)\n\u001b[32m---> \u001b[39m\u001b[32m16\u001b[39m \u001b[38;5;28;43mself\u001b[39;49m\u001b[43m.\u001b[49m\u001b[43mage\u001b[49m = value\n",
      "\u001b[36mCell\u001b[39m\u001b[36m \u001b[39m\u001b[32mIn[25]\u001b[39m\u001b[32m, line 16\u001b[39m, in \u001b[36mPerson.age\u001b[39m\u001b[34m(self, value)\u001b[39m\n\u001b[32m     14\u001b[39m \u001b[38;5;28;01mif\u001b[39;00m value < \u001b[32m0\u001b[39m:\n\u001b[32m     15\u001b[39m     \u001b[38;5;28;01mraise\u001b[39;00m \u001b[38;5;167;01mValueError\u001b[39;00m(\u001b[33m\"\u001b[39m\u001b[33mAge must be greater than 0\u001b[39m\u001b[33m\"\u001b[39m)\n\u001b[32m---> \u001b[39m\u001b[32m16\u001b[39m \u001b[38;5;28;43mself\u001b[39;49m\u001b[43m.\u001b[49m\u001b[43mage\u001b[49m = value\n",
      "    \u001b[31m[... skipping similar frames: Person.age at line 16 (1487 times)]\u001b[39m\n",
      "\u001b[36mCell\u001b[39m\u001b[36m \u001b[39m\u001b[32mIn[25]\u001b[39m\u001b[32m, line 16\u001b[39m, in \u001b[36mPerson.age\u001b[39m\u001b[34m(self, value)\u001b[39m\n\u001b[32m     14\u001b[39m \u001b[38;5;28;01mif\u001b[39;00m value < \u001b[32m0\u001b[39m:\n\u001b[32m     15\u001b[39m     \u001b[38;5;28;01mraise\u001b[39;00m \u001b[38;5;167;01mValueError\u001b[39;00m(\u001b[33m\"\u001b[39m\u001b[33mAge must be greater than 0\u001b[39m\u001b[33m\"\u001b[39m)\n\u001b[32m---> \u001b[39m\u001b[32m16\u001b[39m \u001b[38;5;28;43mself\u001b[39;49m\u001b[43m.\u001b[49m\u001b[43mage\u001b[49m = value\n",
      "\u001b[31mRecursionError\u001b[39m: maximum recursion depth exceeded"
     ]
    }
   ],
   "source": [
    "class Person:\n",
    "    def __init__(self, name, age):\n",
    "        self.__name = name\n",
    "        self.age = age\n",
    "    # a decorator, gives function more functionality\n",
    "    # makes it into a property (getter and setter)  \n",
    "    @property\n",
    "    def age(self):\n",
    "        print(\"age getter called\")\n",
    "        return self.age\n",
    "    \n",
    "    @age.setter\n",
    "    def age(self, value):\n",
    "        if value < 0:\n",
    "            raise ValueError(\"Age must be greater than 0\")\n",
    "        self.age = value\n",
    "        \n",
    "    def __repr__(self):\n",
    "        return f\"Name : {self.__name}, Age : {self.age}\"\n",
    "\n",
    "p7 = Person(\"Boris\", 10)\n",
    "try:\n",
    "    p7.age = -10\n",
    "except ValueError as err:\n",
    "    print(err)\n",
    "\n",
    "p7"
   ]
  },
  {
   "cell_type": "code",
   "execution_count": null,
   "id": "94dddf10",
   "metadata": {},
   "outputs": [],
   "source": [
    "class Employee:\n",
    "    def __init__(self, name, social_security_number, salary, role, employment_year):\n",
    "        self.name = name\n",
    "        self.__social_security_number = social_security_number\n",
    "        self.salary = salary\n",
    "        self.role = role\n",
    "        self.employment_year = employment_year\n",
    "\n",
    "    @property\n",
    "    def _salary(self):\n",
    "        print(\"Getter method called\")\n",
    "        return self._salary\n",
    "    \n",
    "    @salary.setter\n",
    "    def _salary(self, value):\n",
    "        if value < 0:\n",
    "            raise ValueError(\"Only positive numbers\")\n",
    "        self._salary = value\n",
    "\n",
    "    def increase_salary(self, value):\n",
    "        if value < 0:\n",
    "            raise ValueError(\"Only positive number\")\n",
    "        self._salary += value\n",
    "        print(f\"New _salary = {self._salary}\")\n",
    "    \n",
    "    def __repr__(self):\n",
    "        return f\"name = {self.name}, social_security_number = {self.__social_security_number}, _salary = {self._salary}, role = {self.role}, employment_year = {self.employment_year}\"\n",
    "\n",
    "p1 = Employee(\"Anna\", 123, 10000, \"Ekonom\", 2022)\n",
    "\n",
    "p1"
   ]
  },
  {
   "cell_type": "code",
   "execution_count": null,
   "id": "df150ea7",
   "metadata": {},
   "outputs": [
    {
     "name": "stdout",
     "output_type": "stream",
     "text": [
      "Only positive numbers\n"
     ]
    },
    {
     "data": {
      "text/plain": [
       "1000"
      ]
     },
     "execution_count": 67,
     "metadata": {},
     "output_type": "execute_result"
    }
   ],
   "source": [
    "class Employee:\n",
    "    \"\"\"\"\"\"\n",
    "    def __init__(self, name: str, ssn: int, salary: int, role: str, ey: int):\n",
    "        self.name = name\n",
    "        self._ssn = ssn\n",
    "        self.salary = salary\n",
    "        self.role = role\n",
    "        self.ey = ey\n",
    "    \n",
    "    @property\n",
    "    def salary(self):\n",
    "        return self._salary\n",
    "\n",
    "    @salary.setter\n",
    "    def salary(self, value):\n",
    "        if value < 0:\n",
    "            raise ValueError(\"Only positive numbers\")\n",
    "        self._salary = value\n",
    "    def increase_salary(self, value):\n",
    "        if value < 0:\n",
    "            raise ValueError(\"Only positive numbers\")\n",
    "        self.salary += value\n",
    "\n",
    "    def __repr__(self):\n",
    "        return f\"Name : {self.name}, SSN = {self._ssn}, salary = {self.salary}, role = {self.role}, Employment year = {self.ey}\"\n",
    "\n",
    "p1 = Employee(\"Anna\", 123, 1000, \"Ekonom\", 2000)\n",
    "\n",
    "try:\n",
    "    p1.increase_salary(-2)\n",
    "except ValueError as err:\n",
    "    print(err)\n",
    "\n",
    "p1.salary\n",
    "Employee()"
   ]
  }
 ],
 "metadata": {
  "kernelspec": {
   "display_name": "programmering_karl_rydberg_de25",
   "language": "python",
   "name": "python3"
  },
  "language_info": {
   "codemirror_mode": {
    "name": "ipython",
    "version": 3
   },
   "file_extension": ".py",
   "mimetype": "text/x-python",
   "name": "python",
   "nbconvert_exporter": "python",
   "pygments_lexer": "ipython3",
   "version": "3.12.8"
  }
 },
 "nbformat": 4,
 "nbformat_minor": 5
}
