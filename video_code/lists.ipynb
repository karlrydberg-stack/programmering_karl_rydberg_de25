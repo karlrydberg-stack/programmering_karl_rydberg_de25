{
 "cells": [
  {
   "cell_type": "code",
   "execution_count": null,
   "id": "3614d938",
   "metadata": {},
   "outputs": [],
   "source": []
  }
 ],
 "metadata": {
  "kernelspec": {
   "display_name": "programmering_karl_rydberg_de25",
   "language": "python",
   "name": "python3"
  },
  "language_info": {
   "name": "python",
   "version": "3.12.8"
  }
 },
 "nbformat": 4,
 "nbformat_minor": 5
}
