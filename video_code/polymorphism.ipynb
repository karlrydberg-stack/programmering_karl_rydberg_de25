{
 "cells": [
  {
   "cell_type": "markdown",
   "id": "96598f7f",
   "metadata": {},
   "source": [
    "# Polymorphism\n",
    "\n",
    "\"Many Shapes\"\n",
    "- same function name or operator used for different types\n",
    "- e.g \"2\" + \"3\" = \"23\"\n",
    "- 2 + 3 = 5\n",
    "in this example, the plus operator works differently for different types, it has been operator overloaded"
   ]
  },
  {
   "cell_type": "code",
   "execution_count": 6,
   "id": "f93f9313",
   "metadata": {},
   "outputs": [
    {
     "name": "stdout",
     "output_type": "stream",
     "text": [
      "I am a fish, my name is Göran\n",
      "Fish Göran says blupp blupp blupp\n",
      "I am a fish, my name is Jasques\n",
      "Fish Jasques says blupp blupp blupp\n",
      "I am a fox, my name is Ylvis, no one knows how i sound\n"
     ]
    }
   ],
   "source": [
    "class Fish:\n",
    "    def __init__(self, name):\n",
    "        self.name = name\n",
    "    \n",
    "    def __str__(self):\n",
    "        return f\"I am a fish, my name is {self.name}\"\n",
    "    \n",
    "    def speak(self):\n",
    "        print(f\"Fish {self.name} says blupp blupp blupp\")\n",
    "class Fox:\n",
    "    def __init__(self, name):\n",
    "        self.name = name\n",
    "    \n",
    "    def __str__(self):\n",
    "        return f\"I am a fox, my name is {self.name}, no one knows how i sound\"\n",
    "    \n",
    "    def speak(self):\n",
    "        return NotImplemented\n",
    "\n",
    "animals = [Fish(\"Göran\"), Fish(\"Jasques\"), Fox(\"Ylvis\")]\n",
    "\n",
    "for animal in animals:\n",
    "    # Using same method name, but behaves differently for different types\n",
    "    print(animal) # Use __str__ for both fish and fox\n",
    "    animal.speak() # Use speak for both fish and fox"
   ]
  },
  {
   "cell_type": "code",
   "execution_count": 5,
   "id": "9d98bf08",
   "metadata": {},
   "outputs": [
    {
     "ename": "TypeError",
     "evalue": "Elements must be numbers not <class '__main__.Vector'>",
     "output_type": "error",
     "traceback": [
      "\u001b[31m---------------------------------------------------------------------------\u001b[39m",
      "\u001b[31mTypeError\u001b[39m                                 Traceback (most recent call last)",
      "\u001b[36mCell\u001b[39m\u001b[36m \u001b[39m\u001b[32mIn[5]\u001b[39m\u001b[32m, line 47\u001b[39m\n\u001b[32m     45\u001b[39m v1 = Vector(\u001b[32m1\u001b[39m, \u001b[32m2\u001b[39m)\n\u001b[32m     46\u001b[39m v2 = Vector(\u001b[32m1\u001b[39m, \u001b[32m2\u001b[39m)\n\u001b[32m---> \u001b[39m\u001b[32m47\u001b[39m \u001b[43mv1\u001b[49m\u001b[43m \u001b[49m\u001b[43m*\u001b[49m\u001b[43m \u001b[49m\u001b[43mv2\u001b[49m\n",
      "\u001b[36mCell\u001b[39m\u001b[36m \u001b[39m\u001b[32mIn[5]\u001b[39m\u001b[32m, line 41\u001b[39m, in \u001b[36mVector.__mul__\u001b[39m\u001b[34m(self, number)\u001b[39m\n\u001b[32m     39\u001b[39m \u001b[38;5;28;01mdef\u001b[39;00m\u001b[38;5;250m \u001b[39m\u001b[34m__mul__\u001b[39m(\u001b[38;5;28mself\u001b[39m, number):\n\u001b[32m     40\u001b[39m     numbers = (number * a \u001b[38;5;28;01mfor\u001b[39;00m a \u001b[38;5;129;01min\u001b[39;00m \u001b[38;5;28mself\u001b[39m.numbers)\n\u001b[32m---> \u001b[39m\u001b[32m41\u001b[39m     \u001b[38;5;28;01mreturn\u001b[39;00m \u001b[43mVector\u001b[49m\u001b[43m(\u001b[49m\u001b[43m*\u001b[49m\u001b[43mnumbers\u001b[49m\u001b[43m)\u001b[49m\n",
      "\u001b[36mCell\u001b[39m\u001b[36m \u001b[39m\u001b[32mIn[5]\u001b[39m\u001b[32m, line 11\u001b[39m, in \u001b[36mVector.__init__\u001b[39m\u001b[34m(self, *numbers)\u001b[39m\n\u001b[32m      8\u001b[39m \u001b[38;5;28;01mdef\u001b[39;00m\u001b[38;5;250m \u001b[39m\u001b[34m__init__\u001b[39m(\u001b[38;5;28mself\u001b[39m, *numbers):\n\u001b[32m     10\u001b[39m     \u001b[38;5;28;01mfor\u001b[39;00m number \u001b[38;5;129;01min\u001b[39;00m numbers:\n\u001b[32m---> \u001b[39m\u001b[32m11\u001b[39m         \u001b[43mvalidate\u001b[49m\u001b[43m(\u001b[49m\u001b[43mnumber\u001b[49m\u001b[43m)\u001b[49m\n\u001b[32m     13\u001b[39m     \u001b[38;5;28;01mif\u001b[39;00m \u001b[38;5;28mlen\u001b[39m(numbers) <= \u001b[32m0\u001b[39m:\n\u001b[32m     14\u001b[39m         \u001b[38;5;28;01mraise\u001b[39;00m \u001b[38;5;167;01mValueError\u001b[39;00m(\u001b[33m\"\u001b[39m\u001b[33mVector can not be empty\u001b[39m\u001b[33m\"\u001b[39m)\n",
      "\u001b[36mFile \u001b[39m\u001b[32mc:\\Users\\kalle\\Documents\\Github\\programmering_karl_rydberg_de25\\video_code\\utils.py:6\u001b[39m, in \u001b[36mvalidate\u001b[39m\u001b[34m(value)\u001b[39m\n\u001b[32m      3\u001b[39m \u001b[38;5;28;01mdef\u001b[39;00m\u001b[38;5;250m \u001b[39m\u001b[34mvalidate\u001b[39m(value):\n\u001b[32m      5\u001b[39m     \u001b[38;5;28;01mif\u001b[39;00m \u001b[38;5;129;01mnot\u001b[39;00m \u001b[38;5;28misinstance\u001b[39m(value, Number):\n\u001b[32m----> \u001b[39m\u001b[32m6\u001b[39m         \u001b[38;5;28;01mraise\u001b[39;00m \u001b[38;5;167;01mTypeError\u001b[39;00m(\u001b[33mf\u001b[39m\u001b[33m\"\u001b[39m\u001b[33mElements must be numbers not \u001b[39m\u001b[38;5;132;01m{\u001b[39;00m\u001b[38;5;28mtype\u001b[39m(value)\u001b[38;5;132;01m}\u001b[39;00m\u001b[33m\"\u001b[39m)\n",
      "\u001b[31mTypeError\u001b[39m: Elements must be numbers not <class '__main__.Vector'>"
     ]
    }
   ],
   "source": [
    "## Operator Overloading\n",
    "from utils import validate\n",
    "from numbers import Number\n",
    "\n",
    "\n",
    "class Vector:\n",
    "    \"\"\"A class representing a Euclidean vector\"\"\"\n",
    "    def __init__(self, *numbers):\n",
    "    \n",
    "        for number in numbers:\n",
    "            validate(number)\n",
    "        \n",
    "        if len(numbers) <= 0:\n",
    "            raise ValueError(\"Vector can not be empty\")\n",
    "        \n",
    "\n",
    "        self._numbers = numbers\n",
    "    \n",
    "    @property\n",
    "    def numbers(self):\n",
    "        return self._numbers\n",
    "\n",
    "    def __repr__(self):\n",
    "        return f\"Vector{self.numbers}\"\n",
    "\n",
    "    def __len__(self):\n",
    "        return len(self.numbers)\n",
    "    \n",
    "    def __add__(self, other):\n",
    "        #Elementwise addition between 2 tuples\n",
    "        #Should \n",
    "        numbers = (a + b for a, b in zip(self.numbers, other.numbers))\n",
    "        return Vector(*numbers)\n",
    "    def __sub__(self, other):\n",
    "        numbers = (a - b for a, b in zip(self.numbers, other.numbers))\n",
    "        return Vector(*numbers)\n",
    "    def __getitem__(self, item):\n",
    "        return self.numbers[item]\n",
    "    def __mul__(self, number):\n",
    "        numbers = (number * a for a in self.numbers)\n",
    "        return Vector(*numbers)\n",
    "\n",
    "\n",
    "\n",
    "v1 = Vector(1, 2)\n",
    "v2 = Vector(1, 2)\n",
    "v1 * v2"
   ]
  },
  {
   "cell_type": "code",
   "execution_count": null,
   "id": "99aec59b",
   "metadata": {},
   "outputs": [
    {
     "name": "stdout",
     "output_type": "stream",
     "text": [
      "<__main__.f object at 0x00000165546B9A60>\n"
     ]
    }
   ],
   "source": [
    "class f:\n",
    "    def __init__(self, a):\n",
    "        self.a = a\n",
    "    def __str__\n",
    "    \n",
    "\n",
    "a = f(\"s\")\n",
    "print(a)"
   ]
  }
 ],
 "metadata": {
  "kernelspec": {
   "display_name": "programmering_karl_rydberg_de25",
   "language": "python",
   "name": "python3"
  },
  "language_info": {
   "codemirror_mode": {
    "name": "ipython",
    "version": 3
   },
   "file_extension": ".py",
   "mimetype": "text/x-python",
   "name": "python",
   "nbconvert_exporter": "python",
   "pygments_lexer": "ipython3",
   "version": "3.12.8"
  }
 },
 "nbformat": 4,
 "nbformat_minor": 5
}
