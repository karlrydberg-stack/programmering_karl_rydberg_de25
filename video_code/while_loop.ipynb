{
 "cells": [
  {
   "cell_type": "code",
   "execution_count": 12,
   "id": "8a152ed5",
   "metadata": {},
   "outputs": [
    {
     "name": "stdout",
     "output_type": "stream",
     "text": [
      "3\n",
      "10000.0\n"
     ]
    }
   ],
   "source": [
    "birds = 80000\n",
    "year = 0\n",
    "\n",
    "while birds / 2 > 8000:\n",
    "    birds = birds / 2\n",
    "    year = year + 1\n",
    "print(year)\n",
    "print(birds)"
   ]
  },
  {
   "cell_type": "code",
   "execution_count": 16,
   "id": "13135119",
   "metadata": {},
   "outputs": [
    {
     "name": "stdout",
     "output_type": "stream",
     "text": [
      "4.625\n"
     ]
    }
   ],
   "source": [
    "birds = 80000\n",
    "year = 0\n",
    "x = 8000\n",
    "\n",
    "while birds >= x:\n",
    "    birds = birds / 2\n",
    "    year = year + 1\n",
    "\n",
    "if birds < x:\n",
    "    year = year + birds / x\n",
    "    print(year)\n",
    "else:\n",
    "    print(year)"
   ]
  }
 ],
 "metadata": {
  "kernelspec": {
   "display_name": "programmering_karl_rydberg_de25",
   "language": "python",
   "name": "python3"
  },
  "language_info": {
   "codemirror_mode": {
    "name": "ipython",
    "version": 3
   },
   "file_extension": ".py",
   "mimetype": "text/x-python",
   "name": "python",
   "nbconvert_exporter": "python",
   "pygments_lexer": "ipython3",
   "version": "3.12.8"
  }
 },
 "nbformat": 4,
 "nbformat_minor": 5
}
