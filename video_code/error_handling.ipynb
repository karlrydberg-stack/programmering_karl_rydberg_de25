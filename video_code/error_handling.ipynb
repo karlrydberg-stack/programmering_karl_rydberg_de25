{
 "cells": [
  {
   "cell_type": "code",
   "execution_count": 2,
   "id": "033a3d04",
   "metadata": {},
   "outputs": [
    {
     "name": "stdout",
     "output_type": "stream",
     "text": [
      "No variable\n"
     ]
    }
   ],
   "source": [
    "try:\n",
    "    print(x)\n",
    "except NameError:\n",
    "    print(\"No variable\")"
   ]
  }
 ],
 "metadata": {
  "kernelspec": {
   "display_name": "programmering_karl_rydberg_de25",
   "language": "python",
   "name": "python3"
  },
  "language_info": {
   "codemirror_mode": {
    "name": "ipython",
    "version": 3
   },
   "file_extension": ".py",
   "mimetype": "text/x-python",
   "name": "python",
   "nbconvert_exporter": "python",
   "pygments_lexer": "ipython3",
   "version": "3.12.8"
  }
 },
 "nbformat": 4,
 "nbformat_minor": 5
}
