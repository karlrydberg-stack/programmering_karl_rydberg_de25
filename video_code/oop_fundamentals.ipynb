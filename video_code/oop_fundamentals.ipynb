{
 "cells": [
  {
   "cell_type": "code",
   "execution_count": 6,
   "id": "b03b991e",
   "metadata": {},
   "outputs": [
    {
     "data": {
      "text/plain": [
       "School = STI, program = Data Engineer, name = Karl, accept = Accepted"
      ]
     },
     "execution_count": 6,
     "metadata": {},
     "output_type": "execute_result"
    }
   ],
   "source": [
    "class Admission:\n",
    "    def __init__(self, school, program, name, accept):\n",
    "        self.school = school\n",
    "        self.program = program\n",
    "        self.name = name\n",
    "        self.accept = accept\n",
    "\n",
    "    def __repr__(self):\n",
    "        return f\"School = {self.school}, program = {self.program}, name = {self.name}, accept = {self.accept}\"\n",
    "\n",
    "person1 = Admission(\"STI\", \"Data Engineer\", \"Karl\", \"Accepted\")\n",
    "\n",
    "person1"
   ]
  },
  {
   "cell_type": "code",
   "execution_count": 7,
   "id": "c61750cd",
   "metadata": {},
   "outputs": [
    {
     "data": {
      "text/plain": [
       "Nr of ears = 2, Color = Red, nr of legs = 4, name = Octopus"
      ]
     },
     "execution_count": 7,
     "metadata": {},
     "output_type": "execute_result"
    }
   ],
   "source": [
    "class Animal:\n",
    "    # this method will be run when you instaniate a instance from this class\n",
    "    def __init__(self, ears, color, legs, name):\n",
    "\n",
    "        # set the attributes to the values from the arguments\n",
    "        self.ears = ears\n",
    "        self.color = color\n",
    "        self.legs = legs\n",
    "        self.name = name\n",
    "    \n",
    "    def talk(self):\n",
    "        print(f\"{self.name} talks\")\n",
    "    \n",
    "    def __repr__(self):\n",
    "        return f\"Nr of ears = {self.ears}, Color = {self.color}, nr of legs = {self.legs}, name = {self.name}\"\n",
    "\n",
    "# Initiates an instance obj1 from Animal class\n",
    "obj1 = Animal(2, \"Red\", 4, \"Octopus\")\n",
    "\n",
    "obj1"
   ]
  },
  {
   "cell_type": "code",
   "execution_count": null,
   "id": "d00bc59b",
   "metadata": {},
   "outputs": [
    {
     "data": {
      "text/plain": [
       "<__main__.Dog at 0x1c3f4c450d0>"
      ]
     },
     "execution_count": 8,
     "metadata": {},
     "output_type": "execute_result"
    }
   ],
   "source": [
    "#By default the repr returns the memory address of the instance \n",
    "\n",
    "class Dog:\n",
    "    def __init__(self, name):\n",
    "        self.name = name\n",
    "\n",
    "dog1 = Dog(\"Fido\")\n",
    "\n",
    "dog1"
   ]
  },
  {
   "cell_type": "code",
   "execution_count": 19,
   "id": "422ab5f8",
   "metadata": {},
   "outputs": [
    {
     "data": {
      "text/plain": [
       "Helen, 27, Business School, Redovisningsekonom, True"
      ]
     },
     "execution_count": 19,
     "metadata": {},
     "output_type": "execute_result"
    }
   ],
   "source": [
    "class Student:\n",
    "    def __init__(self, name, program, passing, school, age):\n",
    "        self.name = name\n",
    "        self.program = program\n",
    "        self.passing = passing\n",
    "        self.school = school\n",
    "        self.age = age\n",
    "    \n",
    "    def __repr__(self):\n",
    "        return f\"{self.name}, {self.age}, {self.school}, {self.program}, {self.passing}\"\n",
    "\n",
    "stud1 = Student(\"Gustav\", \"Data Engineer\", True, \"STI\", 23)\n",
    "stud2 = Student(\"Anna\", \"AI Engineer\", False, \"IT-högskolan\", 30)\n",
    "stud3 = Student(\"Helen\", \"Redovisningsekonom\", True, \"Business School\", 27)\n",
    "\n",
    "stud3"
   ]
  }
 ],
 "metadata": {
  "kernelspec": {
   "display_name": "programmering_karl_rydberg_de25",
   "language": "python",
   "name": "python3"
  },
  "language_info": {
   "codemirror_mode": {
    "name": "ipython",
    "version": 3
   },
   "file_extension": ".py",
   "mimetype": "text/x-python",
   "name": "python",
   "nbconvert_exporter": "python",
   "pygments_lexer": "ipython3",
   "version": "3.12.8"
  }
 },
 "nbformat": 4,
 "nbformat_minor": 5
}
