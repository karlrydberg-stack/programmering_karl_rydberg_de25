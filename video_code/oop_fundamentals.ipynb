{
 "cells": [
  {
   "cell_type": "code",
   "execution_count": 6,
   "id": "b03b991e",
   "metadata": {},
   "outputs": [
    {
     "data": {
      "text/plain": [
       "School = STI, program = Data Engineer, name = Karl, accept = Accepted"
      ]
     },
     "execution_count": 6,
     "metadata": {},
     "output_type": "execute_result"
    }
   ],
   "source": [
    "class Admission:\n",
    "    def __init__(self, school, program, name, accept):\n",
    "        self.school = school\n",
    "        self.program = program\n",
    "        self.name = name\n",
    "        self.accept = accept\n",
    "\n",
    "    def __repr__(self):\n",
    "        return f\"School = {self.school}, program = {self.program}, name = {self.name}, accept = {self.accept}\"\n",
    "\n",
    "person1 = Admission(\"STI\", \"Data Engineer\", \"Karl\", \"Accepted\")\n",
    "\n",
    "person1"
   ]
  },
  {
   "cell_type": "code",
   "execution_count": 7,
   "id": "c61750cd",
   "metadata": {},
   "outputs": [
    {
     "data": {
      "text/plain": [
       "Nr of ears = 2, Color = Red, nr of legs = 4, name = Octopus"
      ]
     },
     "execution_count": 7,
     "metadata": {},
     "output_type": "execute_result"
    }
   ],
   "source": [
    "class Animal:\n",
    "    # this method will be run when you instaniate a instance from this class\n",
    "    def __init__(self, ears, color, legs, name):\n",
    "\n",
    "        # set the attributes to the values from the arguments\n",
    "        self.ears = ears\n",
    "        self.color = color\n",
    "        self.legs = legs\n",
    "        self.name = name\n",
    "    \n",
    "    def talk(self):\n",
    "        print(f\"{self.name} talks\")\n",
    "    \n",
    "    def __repr__(self):\n",
    "        return f\"Nr of ears = {self.ears}, Color = {self.color}, nr of legs = {self.legs}, name = {self.name}\"\n",
    "\n",
    "# Initiates an instance obj1 from Animal class\n",
    "obj1 = Animal(2, \"Red\", 4, \"Octopus\")\n",
    "\n",
    "obj1"
   ]
  },
  {
   "cell_type": "code",
   "execution_count": null,
   "id": "d00bc59b",
   "metadata": {},
   "outputs": [
    {
     "data": {
      "text/plain": [
       "<__main__.Dog at 0x1c3f4c450d0>"
      ]
     },
     "execution_count": 8,
     "metadata": {},
     "output_type": "execute_result"
    }
   ],
   "source": [
    "#By default the repr returns the memory address of the instance \n",
    "\n",
    "class Dog:\n",
    "    def __init__(self, name):\n",
    "        self.name = name\n",
    "\n",
    "dog1 = Dog(\"Fido\")\n",
    "\n",
    "dog1"
   ]
  },
  {
   "cell_type": "code",
   "execution_count": null,
   "id": "422ab5f8",
   "metadata": {},
   "outputs": [
    {
     "data": {
      "text/plain": [
       "'Name: Anna, Age: 30, School: IT-högskolan, Program: AI Engineer, Passing: False'"
      ]
     },
     "execution_count": 12,
     "metadata": {},
     "output_type": "execute_result"
    }
   ],
   "source": [
    "class Student:\n",
    "    def __init__(self, name, program, passing, school, age): # __init__ first method that will run, initialize attributes \n",
    "        self.name = name\n",
    "        self.program = program\n",
    "        self.passing = passing\n",
    "        self.school = school\n",
    "        self.age = age\n",
    "\n",
    "    def study(self):\n",
    "        print(f\"{self.name} studies {self.program}\")\n",
    "    \n",
    "    def __repr__(self): # Describe how to create instance\n",
    "        return f\"Name: {self.name}, Age: {self.age}, School: {self.school}, Program: {self.program}, Passing: {self.passing}\"\n",
    "    \n",
    "    def __str__(self): # Perhaps similar to __repr__, but when you use print on an instance\n",
    "        return f\"Name: {self.name}, age: {self.age}, School: {self.school}, Program: {self.program}, Passing: {self.passing}\"\n",
    "\n",
    "stud1 = Student(\"Gustav\", \"Data Engineer\", True, \"STI\", 23)\n",
    "stud2 = Student(\"Anna\", \"AI Engineer\", False, \"IT-högskolan\", 30)\n",
    "stud3 = Student(\"Helen\", \"Redovisningsekonom\", True, \"Business School\", 27)\n",
    "\n",
    "stud2 # Printing, looks for __str__ method first hand, or __repr__ secondly\n",
    "repr(stud2)"
   ]
  },
  {
   "cell_type": "code",
   "execution_count": 19,
   "id": "3ff05a83",
   "metadata": {},
   "outputs": [
    {
     "data": {
      "text/plain": [
       "Social security number = Karl\n",
       "Salary = 11"
      ]
     },
     "execution_count": 19,
     "metadata": {},
     "output_type": "execute_result"
    }
   ],
   "source": [
    "class Employee:\n",
    "    def __init__(self, ssn, salary):\n",
    "        self.__ssn = ssn\n",
    "        self.salary = salary\n",
    "    \n",
    "    @property\n",
    "    def salary(self):\n",
    "        return self._salary\n",
    "    \n",
    "    @salary.setter\n",
    "    def salary(self, value):\n",
    "        if not isinstance(value, (float, int)):\n",
    "            raise ValueError(\"Only numbers\")\n",
    "        else:\n",
    "            if value < 0:\n",
    "                raise ValueError(\"Only positive number as salary\")\n",
    "        self._salary = value\n",
    "    \n",
    "    def increase_salary(self, value):\n",
    "        if not isinstance(value, (float, int)):\n",
    "            raise ValueError(\"Only numbers\")\n",
    "        else:\n",
    "            if value < 0:\n",
    "                raise ValueError(\"Only positive numbers\")\n",
    "        self.salary += value\n",
    "    \n",
    "    def __repr__(self):\n",
    "        return f\"Social security number = {self.__ssn}\\nSalary = {self.salary}\"\n",
    "    \n",
    "    def __str__(self):\n",
    "        return f\"Social security number = {self.__ssn}\\nSalary = {self.salary}\"\n",
    "\n",
    "try:\n",
    "    a = Employee(\"Karl\", 1)\n",
    "except ValueError as err:\n",
    "    print(err)\n",
    "\n",
    "a\n",
    "try:\n",
    "    a.increase_salary(10)\n",
    "except ValueError as err:\n",
    "    print(err)\n",
    "a\n"
   ]
  }
 ],
 "metadata": {
  "kernelspec": {
   "display_name": "programmering_karl_rydberg_de25",
   "language": "python",
   "name": "python3"
  },
  "language_info": {
   "codemirror_mode": {
    "name": "ipython",
    "version": 3
   },
   "file_extension": ".py",
   "mimetype": "text/x-python",
   "name": "python",
   "nbconvert_exporter": "python",
   "pygments_lexer": "ipython3",
   "version": "3.12.8"
  }
 },
 "nbformat": 4,
 "nbformat_minor": 5
}
